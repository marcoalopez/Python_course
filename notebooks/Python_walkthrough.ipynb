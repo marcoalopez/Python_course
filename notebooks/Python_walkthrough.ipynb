{
 "cells": [
  {
   "cell_type": "markdown",
   "metadata": {},
   "source": [
    "# Python basics for scientific analysis\n",
    "\n",
    "Copyright 2022 Marco A. Lopez-Sanchez.  \n",
    "Content under [Creative Commons Attribution license CC-BY 4.0](https://creativecommons.org/licenses/by/4.0/).\n",
    "\n",
    "> **Goal**: Learn the basics of the Python programming language relevant to scientific analysis.\n",
    "\n",
    "\n",
    "## What is Python?\n",
    "\n",
    "[Python](https://www.python.org/) is an _interpreted_, _high-level_, _general-purpose_, _multi-paradigm_ programming language. In a nutshell:\n",
    "- _Interpreted_ means that a sequence of instructions written by the programmer (\"the source code\") is directly read and executed by an interpreter without the need for compilation. This allows for interactivity that is advantageous for learning, productivity and, ultimately, for scientific analysis.\n",
    "- _High-level_ (of abstraction) means that the syntax of the language is designed to be easily understood by humans (human-readable code). Python's core design philosophy emphasizes code readability over other aspects.\n",
    "- _General-purpose_ means that the language is not specifically aimed at scientific or numerical computing as for example Fortran, R, or Matlab, even though it is very capable in this area. The Python programming language is used indistinctly for Web or Software Development (e.g. Youtube, Instagram, Dropbox...), System Administration or applications (e.g. Blender) to name a few examples. \n",
    "- _Multi-paradigm_ means that the language supports different types of programming (declarative, functional, object-oriented, etc.)\n",
    "\n",
    "Some of the Python highlights are:\n",
    "- Completely free and open-source.\n",
    "- Easy to learn (very gentle learning curve).\n",
    "- Widely adopted and with a good balance between cutting-edge and mature scientific libraries (i.e. core scientific libraries are based in Fortran and C routines tested in production for decades and less prone to errors).\n",
    "- Well-documented core scientific libraries.\n",
    "- The Python's general-purpose nature makes it a very versatile programming language beyond its use as a scientific tool (when someone writes code they always end up doing things that are not strictly data analysis).\n",
    "\n",
    "## How to read this tutorial\n",
    "\n",
    "Even if you are not familiar with Jupyter notebooks or coding this tutorial is designed to be easy to understand. If you see a \"cell\" (a grey box with a chunk of code preceded by ``In`` plus a number between brackets) you are looking at the **input** or the Python code you enter in the notebook. Everything that is not enclosed in a grey box is either \"markdown text\" explaining things (e.g. what you are reading right now) or the **output** of the code that results from running the Python code enclosed in the cell immediately above (sometimes preceded by \"Out\")."
   ]
  },
  {
   "cell_type": "markdown",
   "metadata": {},
   "source": [
    "## 1. Basic elements of Python"
   ]
  },
  {
   "cell_type": "code",
   "execution_count": 1,
   "metadata": {},
   "outputs": [
    {
     "name": "stdout",
     "output_type": "stream",
     "text": [
      "Hi, I'm Python, nice to meet you!\n"
     ]
    }
   ],
   "source": [
    "# any line starting with a 'hash' symbol is a comment and\n",
    "# will be ignored by the Python interpreter \n",
    "print(\"Hi, I'm Python, nice to meet you!\")"
   ]
  },
  {
   "cell_type": "markdown",
   "metadata": {},
   "source": [
    "### 1.1 Python as a calculator (arithmetic operators in Python)"
   ]
  },
  {
   "cell_type": "code",
   "execution_count": 2,
   "metadata": {},
   "outputs": [
    {
     "data": {
      "text/plain": [
       "19"
      ]
     },
     "execution_count": 2,
     "metadata": {},
     "output_type": "execute_result"
    }
   ],
   "source": [
    "4 + 5 * 3"
   ]
  },
  {
   "cell_type": "code",
   "execution_count": 3,
   "metadata": {},
   "outputs": [
    {
     "data": {
      "text/plain": [
       "27"
      ]
     },
     "execution_count": 3,
     "metadata": {},
     "output_type": "execute_result"
    }
   ],
   "source": [
    "(4 + 5) * 3"
   ]
  },
  {
   "cell_type": "code",
   "execution_count": 4,
   "metadata": {},
   "outputs": [
    {
     "data": {
      "text/plain": [
       "3.0"
      ]
     },
     "execution_count": 4,
     "metadata": {},
     "output_type": "execute_result"
    }
   ],
   "source": [
    "9 / 3"
   ]
  },
  {
   "cell_type": "markdown",
   "metadata": {},
   "source": [
    "Python has the following arithmetic operators\n",
    "\n",
    "```python\n",
    "+   # addition  \n",
    "-   # subtraction\n",
    "*   # multiplication\n",
    "/   # division\n",
    "//  # floor (integer) division\n",
    "**  # exponentiation  \n",
    "%   # modulus/remainder  \n",
    "```\n",
    "\n",
    "The order of operations (or operator precedence) is the same as in mathematics."
   ]
  },
  {
   "cell_type": "markdown",
   "metadata": {},
   "source": [
    "### 1.2 Variables, assignment, and fundamental data (object) types\n",
    "\n",
    "Python has the following fundamental data types\n",
    "\n",
    "```python\n",
    "# NUMBERS\n",
    "int      # integer numbers, i.e. whole numbers positive or negative\n",
    "float    # floating-point numbers, i.e. a representation of a real number\n",
    "complex  # pair consisting on a real part and an imaginaty part \"j\" (note the use of j instead of i)\n",
    "\n",
    "# OTHERS\n",
    "str      # strings or sequences of characters\n",
    "bool     # logical data that represent boolean, either True or False. Evaluate to 1 and 0 respectively.\n",
    "None     # Null or lack of value, known as NoneType\n",
    "```\n",
    "\n",
    "We can ask what type using the built-in method ``type()``"
   ]
  },
  {
   "cell_type": "code",
   "execution_count": 5,
   "metadata": {},
   "outputs": [
    {
     "data": {
      "text/plain": [
       "(str, int, float, complex, bool, NoneType)"
      ]
     },
     "execution_count": 5,
     "metadata": {},
     "output_type": "execute_result"
    }
   ],
   "source": [
    "type('Hi!'), type(2), type(2.0), type(1 + 3j), type(True), type(None)"
   ]
  },
  {
   "cell_type": "code",
   "execution_count": 6,
   "metadata": {},
   "outputs": [
    {
     "data": {
      "text/plain": [
       "(0.0053, float)"
      ]
     },
     "execution_count": 6,
     "metadata": {},
     "output_type": "execute_result"
    }
   ],
   "source": [
    "# float data type allows scientific notation (e.g. 3e5 = 3 x 10**5 or 300000)\n",
    "5.3e-3, type(5.3e-3)"
   ]
  },
  {
   "cell_type": "markdown",
   "metadata": {},
   "source": [
    "We can define a Python variable using ``=`` (i.e. assignment) as follows"
   ]
  },
  {
   "cell_type": "code",
   "execution_count": 7,
   "metadata": {},
   "outputs": [
    {
     "data": {
      "text/plain": [
       "14"
      ]
     },
     "execution_count": 7,
     "metadata": {},
     "output_type": "execute_result"
    }
   ],
   "source": [
    "# assign 7 to x\n",
    "x = 7\n",
    "x * 2"
   ]
  },
  {
   "cell_type": "markdown",
   "metadata": {},
   "source": [
    "Variable names in Python can contain upper and lowercase letters, digits (but cannot start with a digit) and the character underscore ``_``. There are a few number of reserved Python keywords such as ``if``, ``else``, ``print``, etc., that cannot be used as variable names. This keywords will be highlighted as soon as you write them.\n",
    "\n",
    "Python allows multiple variable assignment, which means that one can define more than one variable at a time (or on the same line) as follows"
   ]
  },
  {
   "cell_type": "code",
   "execution_count": 8,
   "metadata": {},
   "outputs": [
    {
     "name": "stdout",
     "output_type": "stream",
     "text": [
      "a = 2\n",
      "b = Hi!\n"
     ]
    }
   ],
   "source": [
    "# note the comma separation when assigning multiple variables!\n",
    "a, b = 2, 'Hi!'\n",
    "print('a =', a) \n",
    "print('b =', b)"
   ]
  },
  {
   "cell_type": "markdown",
   "metadata": {},
   "source": [
    "#### 1.2.1 A short note on strings\n",
    "\n",
    "Strings allow concatenation using the + symbol."
   ]
  },
  {
   "cell_type": "code",
   "execution_count": 9,
   "metadata": {},
   "outputs": [
    {
     "data": {
      "text/plain": [
       "'concatenation'"
      ]
     },
     "execution_count": 9,
     "metadata": {},
     "output_type": "execute_result"
    }
   ],
   "source": [
    "'concat' + 'enation'"
   ]
  },
  {
   "cell_type": "markdown",
   "metadata": {},
   "source": [
    "This is useful for when dealing with file paths, for example:"
   ]
  },
  {
   "cell_type": "code",
   "execution_count": 10,
   "metadata": {},
   "outputs": [
    {
     "data": {
      "text/plain": [
       "'/my_folder/subfolder/my_data.csv'"
      ]
     },
     "execution_count": 10,
     "metadata": {},
     "output_type": "execute_result"
    }
   ],
   "source": [
    "path = '/my_folder/subfolder/'\n",
    "file = 'my_data.csv'\n",
    "path + file"
   ]
  },
  {
   "cell_type": "code",
   "execution_count": 11,
   "metadata": {},
   "outputs": [
    {
     "name": "stdout",
     "output_type": "stream",
     "text": [
      "a string, another string, one more with an 'unexpected' twist\n"
     ]
    }
   ],
   "source": [
    "# strings can be written either in single or double quotes\n",
    "foo, bar, baz = 'a string,', \"another string,\", \"one more with an 'unexpected' twist\"\n",
    "print(foo, bar, baz)"
   ]
  },
  {
   "cell_type": "code",
   "execution_count": 12,
   "metadata": {},
   "outputs": [
    {
     "data": {
      "text/plain": [
       "'\\nThis is a multi-line comment. This type of comment\\nis normally used to document Python functions.\\n'"
      ]
     },
     "execution_count": 12,
     "metadata": {},
     "output_type": "execute_result"
    }
   ],
   "source": [
    "# Python also allows multi-line strings using triple quotes (single or double)\n",
    "'''\n",
    "This is a multi-line comment. This type of comment\n",
    "is normally used to document Python functions.\n",
    "'''"
   ]
  },
  {
   "cell_type": "markdown",
   "metadata": {},
   "source": [
    "### 1.3 Comparison and logical operators (not exhaustive)\n",
    "\n",
    "Python has the following comparison and logical operators\n",
    "\n",
    "**Comparison operators**\n",
    "```python\n",
    "==  # equality or equal to  \n",
    "!=  # inequality or not equal to \n",
    "<   # less than\n",
    ">   # larger than\n",
    "<=  # less than or equal to  \n",
    ">=  # greater than or equal to  \n",
    "```\n",
    "\n",
    "**Logical operators**\n",
    "```python\n",
    "and     # returns true if both statements are true  \n",
    "or      # returns true if one of the statements are true \n",
    "not     # true if statement is false\n",
    "is      # returns true is both variables are the same object\n",
    "is not  # returns true is both variables are not the same object \n",
    "in      # returns true is a value is present in the object  \n",
    "not in  # returns true is a value is not present in the object  \n",
    "```\n",
    "some examples below"
   ]
  },
  {
   "cell_type": "code",
   "execution_count": 13,
   "metadata": {},
   "outputs": [
    {
     "data": {
      "text/plain": [
       "False"
      ]
     },
     "execution_count": 13,
     "metadata": {},
     "output_type": "execute_result"
    }
   ],
   "source": [
    "5.0 == 5.1"
   ]
  },
  {
   "cell_type": "code",
   "execution_count": 14,
   "metadata": {},
   "outputs": [
    {
     "data": {
      "text/plain": [
       "True"
      ]
     },
     "execution_count": 14,
     "metadata": {},
     "output_type": "execute_result"
    }
   ],
   "source": [
    "5.0 != 5.1"
   ]
  },
  {
   "cell_type": "code",
   "execution_count": 15,
   "metadata": {},
   "outputs": [
    {
     "data": {
      "text/plain": [
       "(True, False)"
      ]
     },
     "execution_count": 15,
     "metadata": {},
     "output_type": "execute_result"
    }
   ],
   "source": [
    "5.0 < 5.1, 5.0 >= 5.1"
   ]
  },
  {
   "cell_type": "code",
   "execution_count": 16,
   "metadata": {},
   "outputs": [
    {
     "data": {
      "text/plain": [
       "False"
      ]
     },
     "execution_count": 16,
     "metadata": {},
     "output_type": "execute_result"
    }
   ],
   "source": [
    "x = 5\n",
    "x > 4 and x < 5"
   ]
  },
  {
   "cell_type": "code",
   "execution_count": 17,
   "metadata": {},
   "outputs": [
    {
     "data": {
      "text/plain": [
       "True"
      ]
     },
     "execution_count": 17,
     "metadata": {},
     "output_type": "execute_result"
    }
   ],
   "source": [
    "(x > 4) is True"
   ]
  },
  {
   "cell_type": "markdown",
   "metadata": {},
   "source": [
    "### 1.4 Few gotchas\n",
    "\n",
    "A number within single or double quotes is always a string"
   ]
  },
  {
   "cell_type": "code",
   "execution_count": 18,
   "metadata": {},
   "outputs": [
    {
     "data": {
      "text/plain": [
       "(False, True)"
      ]
     },
     "execution_count": 18,
     "metadata": {},
     "output_type": "execute_result"
    }
   ],
   "source": [
    "'17' == 17, int('17') == 17"
   ]
  },
  {
   "cell_type": "markdown",
   "metadata": {},
   "source": [
    "Beware of backslashes!"
   ]
  },
  {
   "cell_type": "code",
   "execution_count": 19,
   "metadata": {},
   "outputs": [
    {
     "name": "stdout",
     "output_type": "stream",
     "text": [
      "C:\\Program Files\turtle game\n"
     ]
    }
   ],
   "source": [
    "path = \"C:\\Program Files\\turtle game\"\n",
    "print(path)"
   ]
  },
  {
   "cell_type": "markdown",
   "metadata": {},
   "source": [
    "``\\n`` (i.e. new line),  \n",
    "``\\t`` (i.e. Tab),  \n",
    "``\\b`` (i.e. backspace),  \n",
    "``\\f`` (form feed),  \n",
    "``\\ooo`` (i.e. octal value),  \n",
    "``\\xhh`` (i.e. hex value)"
   ]
  },
  {
   "cell_type": "code",
   "execution_count": 20,
   "metadata": {},
   "outputs": [
    {
     "name": "stdout",
     "output_type": "stream",
     "text": [
      "C:\\Program Files\\turtle game\n"
     ]
    }
   ],
   "source": [
    "path = r\"C:\\Program Files\\turtle game\"  # alternative solution: use double backslash \\\\ instead of single \\\n",
    "print(path)"
   ]
  },
  {
   "cell_type": "code",
   "execution_count": 21,
   "metadata": {},
   "outputs": [
    {
     "name": "stdout",
     "output_type": "stream",
     "text": [
      "a\tb\n",
      "A\tB\n",
      "a\\tb\\nA\\tB\n"
     ]
    }
   ],
   "source": [
    "# another example\n",
    "s = 'a\\tb\\nA\\tB'\n",
    "d = r'a\\tb\\nA\\tB'\n",
    "print(s)\n",
    "print(d)"
   ]
  },
  {
   "cell_type": "markdown",
   "metadata": {},
   "source": [
    "If you want or need to convert a float into an integer you should use the built-in Python method ``round()`` first because if you convert it directly into an integer, the value will be truncated not rounded."
   ]
  },
  {
   "cell_type": "code",
   "execution_count": 22,
   "metadata": {},
   "outputs": [
    {
     "data": {
      "text/plain": [
       "(17, 18)"
      ]
     },
     "execution_count": 22,
     "metadata": {},
     "output_type": "execute_result"
    }
   ],
   "source": [
    "int(17.8), int(round(17.8, 0))  # round(value, number of decimals to use)"
   ]
  },
  {
   "cell_type": "code",
   "execution_count": 23,
   "metadata": {},
   "outputs": [
    {
     "data": {
      "text/plain": [
       "(3.0, float)"
      ]
     },
     "execution_count": 23,
     "metadata": {},
     "output_type": "execute_result"
    }
   ],
   "source": [
    "9 / 3, type(9 / 3)  # normal division always returns a float (even when dividing integers)"
   ]
  },
  {
   "cell_type": "code",
   "execution_count": 24,
   "metadata": {},
   "outputs": [
    {
     "data": {
      "text/plain": [
       "True"
      ]
     },
     "execution_count": 24,
     "metadata": {},
     "output_type": "execute_result"
    }
   ],
   "source": [
    "# Python 3.6+ allows you to use underscores in numeric literals for improved readability\n",
    "1_000_000 == 1000000"
   ]
  },
  {
   "cell_type": "markdown",
   "metadata": {},
   "source": [
    "## 2. Python modules and imports\n",
    "\n",
    "The Python language is built around modules and packages. So it is important to know how to interact with them. Basically, one imports modules using the keyword ``import`` followed by the name of the module to import. Some examples below."
   ]
  },
  {
   "cell_type": "code",
   "execution_count": 25,
   "metadata": {},
   "outputs": [
    {
     "data": {
      "text/plain": [
       "1.3010299956639813"
      ]
     },
     "execution_count": 25,
     "metadata": {},
     "output_type": "execute_result"
    }
   ],
   "source": [
    "# import the module math (mathematical functions: https://docs.python.org/3/library/math.html)\n",
    "import math\n",
    "\n",
    "# the dot notation is used to access the methods of the module\n",
    "# i.e. name of the module (dot) name of the method\n",
    "math.log10(20)"
   ]
  },
  {
   "cell_type": "code",
   "execution_count": 26,
   "metadata": {},
   "outputs": [
    {
     "name": "stdout",
     "output_type": "stream",
     "text": [
      "['__doc__', '__loader__', '__name__', '__package__', '__spec__', 'acos', 'acosh', 'asin', 'asinh', 'atan', 'atan2', 'atanh', 'ceil', 'comb', 'copysign', 'cos', 'cosh', 'degrees', 'dist', 'e', 'erf', 'erfc', 'exp', 'expm1', 'fabs', 'factorial', 'floor', 'fmod', 'frexp', 'fsum', 'gamma', 'gcd', 'hypot', 'inf', 'isclose', 'isfinite', 'isinf', 'isnan', 'isqrt', 'lcm', 'ldexp', 'lgamma', 'log', 'log10', 'log1p', 'log2', 'modf', 'nan', 'nextafter', 'perm', 'pi', 'pow', 'prod', 'radians', 'remainder', 'sin', 'sinh', 'sqrt', 'tan', 'tanh', 'tau', 'trunc', 'ulp']\n"
     ]
    }
   ],
   "source": [
    "# display all the methods within the math module\n",
    "print(dir(math))"
   ]
  },
  {
   "cell_type": "code",
   "execution_count": 27,
   "metadata": {},
   "outputs": [
    {
     "name": "stdout",
     "output_type": "stream",
     "text": [
      "Help on built-in function sqrt in module math:\n",
      "\n",
      "sqrt(x, /)\n",
      "    Return the square root of x.\n",
      "\n"
     ]
    }
   ],
   "source": [
    "# get the documentation of a specific function within a module\n",
    "help(math.sqrt)"
   ]
  },
  {
   "cell_type": "markdown",
   "metadata": {},
   "source": [
    "Sometimes you want to import a specific method of a module. In that case, we proceed:"
   ]
  },
  {
   "cell_type": "code",
   "execution_count": 28,
   "metadata": {},
   "outputs": [
    {
     "name": "stdout",
     "output_type": "stream",
     "text": [
      "Value of pi = 3.141592653589793\n",
      "e raised to one is 2.718\n",
      "The sine of 45 degrees is 0.7071067811865476\n"
     ]
    }
   ],
   "source": [
    "# import pi, exponential, sine and the degrees to radian methods\n",
    "from math import pi, exp, sin, radians\n",
    "\n",
    "print('Value of pi =', pi)\n",
    "print('e raised to one is', round(exp(1), 3))  # note the use of the method round()\n",
    "print('The sine of 45 degrees is', sin(radians(45)))"
   ]
  },
  {
   "cell_type": "markdown",
   "metadata": {},
   "source": [
    "Note that in this case, we did not use the dot notation to access the methods as they were imported directly into the notebook.\n",
    "\n",
    "> 👉 It is possible to import all the methods of a module using the following expression ``from module import *``, for example ``from math import *``. However, this is considered bad practice in Python because you may end up importing two modules that contain methods with similar names but different functionalities without realising it and not knowing which module you are using when you apply a method. By using dot notation you can always tell which method of which module is being used.\n",
    "\n",
    "Typically, module names are shortened to reduce typing, so you will often see imports of the following type"
   ]
  },
  {
   "cell_type": "code",
   "execution_count": 29,
   "metadata": {},
   "outputs": [
    {
     "data": {
      "text/plain": [
       "3.141592653589793"
      ]
     },
     "execution_count": 29,
     "metadata": {},
     "output_type": "execute_result"
    }
   ],
   "source": [
    "# import the module numpy (meaning numerical python)\n",
    "import numpy as np\n",
    "\n",
    "np.pi"
   ]
  },
  {
   "cell_type": "markdown",
   "metadata": {},
   "source": [
    "> 👉 Hint: when you type the name of an imported module followed by a dot and press the TAB key, a menu containing the module's method list will pop up. Also in Jupyter Lab a description of the method will automatically appear in the \"Show Contextual Help\" as soon as you write the method."
   ]
  },
  {
   "cell_type": "markdown",
   "metadata": {},
   "source": [
    "## 3. Branching programs: the ``if``, ``elif`` and ``else`` statements\n",
    "\n",
    "Branching programs are code chunks where an expression evaluates to either ``True`` or ``False`` (i.e. a **conditional** or _Boolean expression_) that when ``True`` the indented code block will be executed. In Python, a conditional statement has the following form:\n",
    "\n",
    "```python\n",
    "if Boolean expression:\n",
    "    block of code\n",
    "```\n",
    "Branching programs can combine the Python keywords ``elif``, meaning \"_else if_\", or ``else`` to execute other code blocks when the test evaluates to ``False``. For example:\n",
    "\n",
    "```python\n",
    "if Boolean expression:\n",
    "    block of code\n",
    "elif Boolean expression:\n",
    "    block of code\n",
    "else:\n",
    "    block of code\n",
    "```\n",
    "\n",
    "It is important to note that the conditional is followed by a colon and immediately below it by an indented code block. **This is a core concept in the Python programming language as indentation is semantically meaningful** (i.e. the visual structure of a program is a representation of its semantic structure). Indentation in Python is represented by 4 spaces. Most Python editors, including the notebook, will auto-indent the code once you write a colon and press the Enter key.\n",
    "\n",
    "Now let's show some examples of branching programs"
   ]
  },
  {
   "cell_type": "code",
   "execution_count": 30,
   "metadata": {},
   "outputs": [],
   "source": [
    "# set some variables\n",
    "x, y, z = 8, 2, 4"
   ]
  },
  {
   "cell_type": "code",
   "execution_count": 31,
   "metadata": {},
   "outputs": [
    {
     "name": "stdout",
     "output_type": "stream",
     "text": [
      "x is even\n"
     ]
    }
   ],
   "source": [
    "# simple branching program evaluating for even or odds numbers\n",
    "if x % 2 == 0:\n",
    "    print('x is even')\n",
    "else:\n",
    "    print('x is odd')"
   ]
  },
  {
   "cell_type": "code",
   "execution_count": 32,
   "metadata": {},
   "outputs": [
    {
     "name": "stdout",
     "output_type": "stream",
     "text": [
      "x is the largest\n"
     ]
    }
   ],
   "source": [
    "# example of conditional containing a nested conditional\n",
    "if x > y:\n",
    "    if x > z:\n",
    "        print('x is the largest')\n",
    "    else:\n",
    "        print('z is the largest')\n",
    "elif y > z:\n",
    "    print('y is the largest')\n",
    "else:\n",
    "    print('z is the largest')"
   ]
  },
  {
   "cell_type": "code",
   "execution_count": 33,
   "metadata": {},
   "outputs": [
    {
     "name": "stdout",
     "output_type": "stream",
     "text": [
      "x is the largest\n"
     ]
    }
   ],
   "source": [
    "# same as above but a concise approach combining conditionals and logical operators\n",
    "if x > y and x > z:\n",
    "    print('x is the largest')\n",
    "elif y > z:\n",
    "    print('y is the largest')\n",
    "else:\n",
    "    print('z is the largest')"
   ]
  },
  {
   "cell_type": "markdown",
   "metadata": {},
   "source": [
    "## 3. String formatting for prints\n",
    "\n",
    "Normally, within a ``print`` funtion you can combine strings and any other data type separated by commas or using string concatenation. For example"
   ]
  },
  {
   "cell_type": "code",
   "execution_count": 34,
   "metadata": {},
   "outputs": [
    {
     "name": "stdout",
     "output_type": "stream",
     "text": [
      "my result = 15.33 MPa\n"
     ]
    }
   ],
   "source": [
    "result = 15.33\n",
    "print('my result =', result, 'MPa')"
   ]
  },
  {
   "cell_type": "markdown",
   "metadata": {},
   "source": [
    "There is, however, a few string formatting methods that allows you to simplify your prints in some cases.\n",
    "\n",
    "### 3.1 f-strings\n",
    "\n",
    "This is the preferred method for string formatting using prints. Note the ``f`` before declaring the string. It requires Python 3.6+"
   ]
  },
  {
   "cell_type": "code",
   "execution_count": 35,
   "metadata": {},
   "outputs": [
    {
     "name": "stdout",
     "output_type": "stream",
     "text": [
      "my result = 15.33 MPa\n"
     ]
    }
   ],
   "source": [
    "# basically, f-strings allows you to put variables directly into the string using curly braces\n",
    "print(f'my result = {result} MPa')"
   ]
  },
  {
   "cell_type": "code",
   "execution_count": 36,
   "metadata": {},
   "outputs": [
    {
     "name": "stdout",
     "output_type": "stream",
     "text": [
      "my result = 15.3 MPa\n",
      "my result = 15 MPa\n"
     ]
    }
   ],
   "source": [
    "print(f'my result = {result:.1f} MPa')  # use :.xf to round float numbers\n",
    "print(f'my result = {result:.0f} MPa')"
   ]
  },
  {
   "cell_type": "markdown",
   "metadata": {},
   "source": [
    "> more info here: https://fstring.help/cheat/"
   ]
  },
  {
   "cell_type": "markdown",
   "metadata": {},
   "source": [
    "### 3.2 The ``.format()`` method\n",
    "\n",
    "Sometimes you will see a string formatting like this, the default print formatting method before the release of _f-strings_. This method can however be useful in some cases where for clarity it is better to separate the string from the variables."
   ]
  },
  {
   "cell_type": "code",
   "execution_count": 37,
   "metadata": {},
   "outputs": [
    {
     "name": "stdout",
     "output_type": "stream",
     "text": [
      "my result = 15.33 ± 0.5 MPa\n",
      "my result = 15.33 ± 0.5 MPa\n"
     ]
    }
   ],
   "source": [
    "err = 0.5\n",
    "print('my result = {} ± {} MPa' .format(result, err))        # positional example\n",
    "print('my result = {a} ± {b} MPa' .format(a=result, b=err))  # keyword example"
   ]
  },
  {
   "cell_type": "code",
   "execution_count": 38,
   "metadata": {},
   "outputs": [
    {
     "name": "stdout",
     "output_type": "stream",
     "text": [
      "my result = 15.3 MPa\n"
     ]
    }
   ],
   "source": [
    "print('my result = {:.1f} MPa' .format(result))  # note the use :.xf to round numbers"
   ]
  },
  {
   "cell_type": "markdown",
   "metadata": {},
   "source": [
    "> there is still one more formatting string method similar to ``.format`` but using the ``%`` character. The % method is generally discouraged in Python, for more details on string formatting see here: https://realpython.com/python-string-formatting/"
   ]
  },
  {
   "cell_type": "markdown",
   "metadata": {},
   "source": [
    "## 4. Structured types, indexing, slicing, and mutability in Python\n",
    "\n",
    "Here, we will refer to three basic structured types in Python called lists, tuples and dictionaries (there are others), plus a Python method for encapsulating different related variables. Although they are not widely used for scientific analysis (see later Numpy arrays and Pandas dataframes), they are essential to know the and can come in handy for specific cases.\n",
    "\n",
    "### 4.1 Lists\n",
    "\n",
    "Python **lists** are ordered sequences of values of any type where each value is identified by an index. The different elements need not be of the same type. A key concept is that elements in a **list are mutable** (i.e. their values or size can be modified after creation). A list is constructed using square brackets."
   ]
  },
  {
   "cell_type": "code",
   "execution_count": 39,
   "metadata": {},
   "outputs": [
    {
     "data": {
      "text/plain": [
       "list"
      ]
     },
     "execution_count": 39,
     "metadata": {},
     "output_type": "execute_result"
    }
   ],
   "source": [
    "sequence = [1, 2, 3, 4]\n",
    "type(sequence)"
   ]
  },
  {
   "cell_type": "code",
   "execution_count": 40,
   "metadata": {},
   "outputs": [
    {
     "data": {
      "text/plain": [
       "[1, 2, 3, 4, 17]"
      ]
     },
     "execution_count": 40,
     "metadata": {},
     "output_type": "execute_result"
    }
   ],
   "source": [
    "# mutability of Python list (I use the built-in method append)\n",
    "sequence.append(17)\n",
    "sequence"
   ]
  },
  {
   "cell_type": "code",
   "execution_count": 41,
   "metadata": {},
   "outputs": [
    {
     "name": "stdout",
     "output_type": "stream",
     "text": [
      "This list has 5 items\n"
     ]
    }
   ],
   "source": [
    "# get the length (or size) of the list using the built-in method len\n",
    "print(f'This list has {len(sequence)} items')"
   ]
  },
  {
   "cell_type": "markdown",
   "metadata": {},
   "source": [
    "### 4.2 Tuples\n",
    "\n",
    "Similar to lists, **tuples** are ordered sequences of elements of any type where each value is identified by an index. A tuple is constructed by enclosed a comma-separated list of elements within parentheses. The main difference with Python lists is that **elements in tuples are inmutable**. Due to this, tuples are of limited use in data science but they can come in handy for specific cases when we want to ensure that a sequence of values remains the same."
   ]
  },
  {
   "cell_type": "code",
   "execution_count": 42,
   "metadata": {},
   "outputs": [
    {
     "data": {
      "text/plain": [
       "tuple"
      ]
     },
     "execution_count": 42,
     "metadata": {},
     "output_type": "execute_result"
    }
   ],
   "source": [
    "foo = (1, 2, 3, 4)\n",
    "type(foo)"
   ]
  },
  {
   "cell_type": "markdown",
   "metadata": {},
   "source": [
    "### 4.3 Indexing and slicing\n",
    "\n",
    "**Indexing** can be used to extract individual elements from a list or tuple declaring the index in square brackets after the sequence name, e.g. ``seq[3]``. As in most general-purpose programming languages and in oposition to some programming languages specifically designed for mathematical computations (e.g. Fortran, Matlab, R or Julia), in Python **indexation is zero-based**, meaning that for accesing the first element of a sequence you must use the index zero not one. Look at the scheme below\n",
    "\n",
    "```\n",
    " +---+---+---+---+----+\n",
    " | 1 | 2 | 4 | 9 | 16 |   Elements of the sequence\n",
    " +---+---+---+---+----+\n",
    " 0   1   2   3   4        Index position\n",
    "-5  -4  -3  -2  -1    0   Negative index position\n",
    "```\n",
    "\n",
    "> One way to approach indexing is to visualize the indexes pointing between the elements in the sequence with the left edge of the sequence starting at zero and think that the element you extract when calling an index is the one on the right side of the index. See also later \"slicing\"."
   ]
  },
  {
   "cell_type": "code",
   "execution_count": 43,
   "metadata": {},
   "outputs": [
    {
     "data": {
      "text/plain": [
       "1"
      ]
     },
     "execution_count": 43,
     "metadata": {},
     "output_type": "execute_result"
    }
   ],
   "source": [
    "# create a list with 5 elements\n",
    "seq = [1, 2, 4, 9, 16]\n",
    "\n",
    "# get the first element of the sequence\n",
    "seq[0]"
   ]
  },
  {
   "cell_type": "code",
   "execution_count": 44,
   "metadata": {},
   "outputs": [
    {
     "data": {
      "text/plain": [
       "16"
      ]
     },
     "execution_count": 44,
     "metadata": {},
     "output_type": "execute_result"
    }
   ],
   "source": [
    "# get the fifth (last element) of the sequence\n",
    "seq[4]"
   ]
  },
  {
   "cell_type": "markdown",
   "metadata": {},
   "source": [
    "If you use an index out of the range of the sequence, Python will throw an index error as follows\n",
    "\n",
    "![](https://github.com/marcoalopez/strength_envelopes/blob/master/notebooks/img/IndexError.png?raw=true)"
   ]
  },
  {
   "cell_type": "code",
   "execution_count": 45,
   "metadata": {},
   "outputs": [
    {
     "data": {
      "text/plain": [
       "16"
      ]
     },
     "execution_count": 45,
     "metadata": {},
     "output_type": "execute_result"
    }
   ],
   "source": [
    "# get the last element using negative indexing\n",
    "# this avoids causing an index error or writing\n",
    "# the longer equivalent version: [len(seq) - 1]\n",
    "seq[-1]"
   ]
  },
  {
   "cell_type": "code",
   "execution_count": 46,
   "metadata": {},
   "outputs": [
    {
     "data": {
      "text/plain": [
       "[10, 2, 4, 9, 16]"
      ]
     },
     "execution_count": 46,
     "metadata": {},
     "output_type": "execute_result"
    }
   ],
   "source": [
    "# list mutability using index (changing the value of a specific index)\n",
    "seq[0] = 10\n",
    "seq"
   ]
  },
  {
   "cell_type": "markdown",
   "metadata": {},
   "source": [
    "**Slicing** refers to extract elements of a sequence of arbitrary length. The expression ``seq[start:end]`` denotes that we want to extract the elements that start at index 0 and ends at index len(seq), this last remark is important. The best approach to visualize slicing is to think that the indices are pointing between the elements of the sequence with the left edge of the sequence starting at zero as in the example below\n",
    "\n",
    "```\n",
    "                +---+---+---+---+----+\n",
    "                | 1 | 2 | 4 | 9 | 16 |\n",
    "                +---+---+---+---+----+\n",
    "Slice position: 0   1   2   3   4    5\n",
    "[0:3]           +-----------+\n",
    "[:3]            +-----------+\n",
    "[2:4]                   +-------+\n",
    "[2:]                    +-------------+\n",
    "[2:5]                   +-------------+\n",
    "[:]             +---------------------+\n",
    "[0:5]           +---------------------+\n",
    "```"
   ]
  },
  {
   "cell_type": "code",
   "execution_count": 47,
   "metadata": {},
   "outputs": [
    {
     "data": {
      "text/plain": [
       "[1, 2, 4]"
      ]
     },
     "execution_count": 47,
     "metadata": {},
     "output_type": "execute_result"
    }
   ],
   "source": [
    "seq = [1, 2, 4, 9, 16]\n",
    "seq[0:3]"
   ]
  },
  {
   "cell_type": "code",
   "execution_count": 48,
   "metadata": {},
   "outputs": [
    {
     "data": {
      "text/plain": [
       "[4, 9]"
      ]
     },
     "execution_count": 48,
     "metadata": {},
     "output_type": "execute_result"
    }
   ],
   "source": [
    "seq[2:4]"
   ]
  },
  {
   "cell_type": "code",
   "execution_count": 49,
   "metadata": {},
   "outputs": [
    {
     "data": {
      "text/plain": [
       "[1, 2, 4, 9, 16]"
      ]
     },
     "execution_count": 49,
     "metadata": {},
     "output_type": "execute_result"
    }
   ],
   "source": [
    "seq[:]"
   ]
  },
  {
   "cell_type": "markdown",
   "metadata": {},
   "source": [
    "**Slicing** also allows you to manage one more parameter called step ``[start:stop:step]`` that controls the amount by which the index increases (defaults to 1 when not specified)."
   ]
  },
  {
   "cell_type": "code",
   "execution_count": 50,
   "metadata": {},
   "outputs": [
    {
     "data": {
      "text/plain": [
       "[1, 4, 16]"
      ]
     },
     "execution_count": 50,
     "metadata": {},
     "output_type": "execute_result"
    }
   ],
   "source": [
    "seq[0:5:2]"
   ]
  },
  {
   "cell_type": "markdown",
   "metadata": {},
   "source": [
    "If the step parameter is negative, you' will be slicing in reverse."
   ]
  },
  {
   "cell_type": "code",
   "execution_count": 51,
   "metadata": {},
   "outputs": [
    {
     "data": {
      "text/plain": [
       "[16, 9, 4, 2, 1]"
      ]
     },
     "execution_count": 51,
     "metadata": {},
     "output_type": "execute_result"
    }
   ],
   "source": [
    "seq[::-1]"
   ]
  },
  {
   "cell_type": "markdown",
   "metadata": {},
   "source": [
    "We will return to indexing and slicing later in the section that deals with Numpy arrays."
   ]
  },
  {
   "cell_type": "markdown",
   "metadata": {},
   "source": [
    "### 4.4 Dictionaries\n",
    "\n",
    "A _dictionary_ is a structured type used to store _key-value_ pairs. This is a very versatile structure as the values can be of any type supported by Python (e.g. integers, scalars, lists, numpy arrays, etc.). Dictionaries are constructed with curly brackets and key and values are separated by a colon as follows"
   ]
  },
  {
   "cell_type": "code",
   "execution_count": 52,
   "metadata": {},
   "outputs": [
    {
     "data": {
      "text/plain": [
       "dict"
      ]
     },
     "execution_count": 52,
     "metadata": {},
     "output_type": "execute_result"
    }
   ],
   "source": [
    "data = {'T': [25, 100, 200],\n",
    "        'P': [1, 100, 200],\n",
    "        'ref': 'Ari et al.'}\n",
    "\n",
    "type(data)"
   ]
  },
  {
   "cell_type": "code",
   "execution_count": 53,
   "metadata": {},
   "outputs": [
    {
     "data": {
      "text/plain": [
       "([25, 100, 200], list)"
      ]
     },
     "execution_count": 53,
     "metadata": {},
     "output_type": "execute_result"
    }
   ],
   "source": [
    "data['T'], type(data['T'])"
   ]
  },
  {
   "cell_type": "code",
   "execution_count": 54,
   "metadata": {},
   "outputs": [
    {
     "data": {
      "text/plain": [
       "'Ari et al.'"
      ]
     },
     "execution_count": 54,
     "metadata": {},
     "output_type": "execute_result"
    }
   ],
   "source": [
    "data['ref']"
   ]
  },
  {
   "cell_type": "code",
   "execution_count": 55,
   "metadata": {},
   "outputs": [],
   "source": [
    "# adding a new entry in the dictionary\n",
    "data['year'] = 2015"
   ]
  },
  {
   "cell_type": "code",
   "execution_count": 56,
   "metadata": {},
   "outputs": [
    {
     "data": {
      "text/plain": [
       "{'T': [25, 100, 200], 'P': [1, 100, 200], 'ref': 'Ari et al.', 'year': 2015}"
      ]
     },
     "execution_count": 56,
     "metadata": {},
     "output_type": "execute_result"
    }
   ],
   "source": [
    "data"
   ]
  },
  {
   "cell_type": "code",
   "execution_count": 57,
   "metadata": {},
   "outputs": [
    {
     "data": {
      "text/plain": [
       "dict_keys(['T', 'P', 'ref', 'year'])"
      ]
     },
     "execution_count": 57,
     "metadata": {},
     "output_type": "execute_result"
    }
   ],
   "source": [
    "# get dictionary keys\n",
    "data.keys()"
   ]
  },
  {
   "cell_type": "code",
   "execution_count": 58,
   "metadata": {},
   "outputs": [
    {
     "data": {
      "text/plain": [
       "100"
      ]
     },
     "execution_count": 58,
     "metadata": {},
     "output_type": "execute_result"
    }
   ],
   "source": [
    "# Example of slicing: get the second value of the list with key 'P'\n",
    "data['P'][1]"
   ]
  },
  {
   "cell_type": "markdown",
   "metadata": {},
   "source": [
    "### 4.5 Use the ``SimpleNamespace`` method to store related variables (and keep things tidy)\n",
    "\n",
    "Python ``SimpleNamespace`` method provides an easy way to store related variables and keep things tidy without the need of using a Python dictionary or generate a very large number of variables in the scope. ``SimpleNamespace`` has the advantage over Python dictionaries of accessing the values using the \"dot\" notation, this is using the syntax ``varname.attribute`` instead of ``varname['attribute']``.\n",
    "\n",
    "For example, imagine that we want to set a threesome of coordinates. In this case, instead of generating three different variables, it would be more convenient to use a single name called ``coordinates`` containing the different values of the coordinates within that _object_ called ``coordinates`` as follows"
   ]
  },
  {
   "cell_type": "code",
   "execution_count": 59,
   "metadata": {},
   "outputs": [
    {
     "data": {
      "text/plain": [
       "namespace(x=5, y=41, z=40)"
      ]
     },
     "execution_count": 59,
     "metadata": {},
     "output_type": "execute_result"
    }
   ],
   "source": [
    "from types import SimpleNamespace\n",
    "\n",
    "coordinates = SimpleNamespace(x=5, y=41, z=40)\n",
    "coordinates"
   ]
  },
  {
   "cell_type": "code",
   "execution_count": 60,
   "metadata": {},
   "outputs": [
    {
     "data": {
      "text/plain": [
       "types.SimpleNamespace"
      ]
     },
     "execution_count": 60,
     "metadata": {},
     "output_type": "execute_result"
    }
   ],
   "source": [
    "type(coordinates)"
   ]
  },
  {
   "cell_type": "code",
   "execution_count": 61,
   "metadata": {},
   "outputs": [
    {
     "data": {
      "text/plain": [
       "5"
      ]
     },
     "execution_count": 61,
     "metadata": {},
     "output_type": "execute_result"
    }
   ],
   "source": [
    "# get one of the coordinates using the dot notation\n",
    "coordinates.x"
   ]
  },
  {
   "cell_type": "code",
   "execution_count": 62,
   "metadata": {},
   "outputs": [
    {
     "data": {
      "text/plain": [
       "namespace(x=5, y=41, z=41)"
      ]
     },
     "execution_count": 62,
     "metadata": {},
     "output_type": "execute_result"
    }
   ],
   "source": [
    "# modify one of the values\n",
    "coordinates.z = 41\n",
    "coordinates"
   ]
  },
  {
   "cell_type": "code",
   "execution_count": 63,
   "metadata": {},
   "outputs": [
    {
     "data": {
      "text/plain": [
       "namespace(x=5, y=41, z=41, info='UTM')"
      ]
     },
     "execution_count": 63,
     "metadata": {},
     "output_type": "execute_result"
    }
   ],
   "source": [
    "# add a new field, for example a string containing the type of coordinates\n",
    "coordinates.info = 'UTM'\n",
    "coordinates"
   ]
  },
  {
   "cell_type": "code",
   "execution_count": 64,
   "metadata": {},
   "outputs": [
    {
     "data": {
      "text/plain": [
       "namespace(T=[25, 100, 200], P=[1, 100, 200], ref='Ari et al.', year=2015)"
      ]
     },
     "execution_count": 64,
     "metadata": {},
     "output_type": "execute_result"
    }
   ],
   "source": [
    "# convert a dictionary into a SimpleNameSpace\n",
    "new_data = SimpleNamespace(**data)\n",
    "new_data"
   ]
  },
  {
   "cell_type": "code",
   "execution_count": 65,
   "metadata": {},
   "outputs": [
    {
     "data": {
      "text/plain": [
       "{'x': 5, 'y': 41, 'z': 41, 'info': 'UTM'}"
      ]
     },
     "execution_count": 65,
     "metadata": {},
     "output_type": "execute_result"
    }
   ],
   "source": [
    "# convert a SimpleNameSpace into a dictionary\n",
    "coordinates.__dict__"
   ]
  },
  {
   "cell_type": "markdown",
   "metadata": {},
   "source": [
    "## 5. Python functions\n",
    "\n",
    "A **function** a self-contained block of code that encapsulates a specific task or group of related tasks. We have already used several built-in Python functions in this notebook, e.g. ``print()``, or functions belonging to different modules such as ``math.log()``. Python allow the user to define their own functions. For this, one needs to use the keyword ``def`` (meaning _define_) followed by the **name of the function**, a tuple which may be empty or contain one or multiple **arguments** (or formal **parameters** of the function), and a colon. Below this, goes the (indented) code block as follows\n",
    "\n",
    "```python\n",
    "def function_name(\"sequence of parameters if any\"):\n",
    "    some code\n",
    "```\n",
    "\n",
    "For example"
   ]
  },
  {
   "cell_type": "code",
   "execution_count": 66,
   "metadata": {},
   "outputs": [
    {
     "data": {
      "text/plain": [
       "'2 is the smallest'"
      ]
     },
     "execution_count": 66,
     "metadata": {},
     "output_type": "execute_result"
    }
   ],
   "source": [
    "# define a dummy function that returns the minimum value between two values\n",
    "def min_value(x, y):\n",
    "    if x < y:\n",
    "        return f\"{x} is the smallest\"\n",
    "    else:\n",
    "        return f\"{y} is the smallest\"\n",
    "\n",
    "# use the function\n",
    "min_value(2, 6)"
   ]
  },
  {
   "cell_type": "markdown",
   "metadata": {},
   "source": [
    "In the example above ``x`` and ``y`` are the parameters of the function. There are two ways to bind the parameters and the arguments/values. The **positional** way, used in the example above ``min_value(2, 6)`` in which the position of the arguments/values within the tuple binds these and the parameters, x to 2 and y to 6 in this case. The **keyword parameter** way, in which one bound the parameter names and the arguments/values ``min_value(x=2, y=6)`` to make it more explicit. Lastly, within the _function body_, a special Python statement named ``return`` need to be used, if not the output of the function will be ``None``. It is important to note that when you create a variable inside a function it is local and it only exists inside the scope of the function. This means that the user does not have to worry about the name of the variables used within the functions.\n",
    "\n",
    "Python allows you to document the functions using text between triple quotation marks (commonly referred to as a **docstring**). Once the docstring is included within the function, it can be accessed using the command ``help()`` or the symbols ``?`` or ``??`` (you will probably also get a floating window showing this information as soon as you write the function on some IDES). An example below."
   ]
  },
  {
   "cell_type": "code",
   "execution_count": 67,
   "metadata": {},
   "outputs": [],
   "source": [
    "def get_min_value(x, y):\n",
    "    \"\"\"Returns the minimum value between two numbers\n",
    "\n",
    "    Parameters\n",
    "    ----------\n",
    "    x : int or float\n",
    "        the first number\n",
    "    y : int or float\n",
    "        the second number\n",
    "    \"\"\"\n",
    "    \n",
    "    if x < y:\n",
    "        return f\"{x} is the smallest\"\n",
    "    else:\n",
    "        return f\"{y} is the smallest\""
   ]
  },
  {
   "cell_type": "code",
   "execution_count": 68,
   "metadata": {},
   "outputs": [
    {
     "name": "stdout",
     "output_type": "stream",
     "text": [
      "Help on function get_min_value in module __main__:\n",
      "\n",
      "get_min_value(x, y)\n",
      "    Returns the minimum value between two numbers\n",
      "    \n",
      "    Parameters\n",
      "    ----------\n",
      "    x : int or float\n",
      "        the first number\n",
      "    y : int or float\n",
      "        the second number\n",
      "\n"
     ]
    }
   ],
   "source": [
    "help(get_min_value)  # you can also use: min_value?"
   ]
  },
  {
   "cell_type": "markdown",
   "metadata": {},
   "source": [
    "## 6. Loops\n",
    "\n",
    "Loops are logical structures that repeat a sequence of code until a certain condition is met.\n",
    "\n",
    "### 6.1 For loops\n",
    "\n",
    "A **for loop** is a construct that iterates over a sequence of elements including strings and structured types such as lists, tuples, dictionaries or arrays. It has the following form:\n",
    "\n",
    "```python\n",
    "for element in sequence:\n",
    "    code block\n",
    "```\n",
    "\n",
    "This construct applies the code block until the sequence is exhausted or a break statement is reached within the code block. Let's see a few examples:"
   ]
  },
  {
   "cell_type": "code",
   "execution_count": 69,
   "metadata": {},
   "outputs": [
    {
     "name": "stdout",
     "output_type": "stream",
     "text": [
      "1\n",
      "2\n",
      "3\n",
      "4\n"
     ]
    }
   ],
   "source": [
    "seq = [1, 2, 3, 4]\n",
    "\n",
    "for item in seq:\n",
    "    print(item)"
   ]
  },
  {
   "cell_type": "code",
   "execution_count": 70,
   "metadata": {},
   "outputs": [
    {
     "name": "stdout",
     "output_type": "stream",
     "text": [
      "Evens: [2, 4]\n",
      "Odds: [1, 3]\n"
     ]
    }
   ],
   "source": [
    "# separate the even and odd numbers in seq\n",
    "# create two empty lists\n",
    "evens = []\n",
    "odds = []\n",
    "\n",
    "# iterate over the list and append even and odd numbers separately\n",
    "for value in seq:\n",
    "    if value % 2 == 0:\n",
    "        evens.append(value)  # uses Python append() method to append values to lists\n",
    "    else:\n",
    "        odds.append(value)\n",
    "\n",
    "print('Evens:', evens)\n",
    "print('Odds:', odds)"
   ]
  },
  {
   "cell_type": "code",
   "execution_count": 71,
   "metadata": {},
   "outputs": [
    {
     "data": {
      "text/plain": [
       "[1, 8, 27, 64]"
      ]
     },
     "execution_count": 71,
     "metadata": {},
     "output_type": "execute_result"
    }
   ],
   "source": [
    "# we can update the values of a list using the indexes (remember that lists are mutable objects)\n",
    "index = 0\n",
    "\n",
    "for i in seq:\n",
    "    seq[index] = i**3\n",
    "    index += 1  # this is equivalent to: index = index + 1\n",
    "\n",
    "seq"
   ]
  },
  {
   "cell_type": "markdown",
   "metadata": {},
   "source": [
    "The ``enumerate()`` method allows making the code above more concise. This built-in function returns the index and the iterable at the same time so that it is no longer neccesary to create a variable for indexing and updating the index during the loop. Let's show how ``enumerate()`` works"
   ]
  },
  {
   "cell_type": "code",
   "execution_count": 72,
   "metadata": {},
   "outputs": [
    {
     "name": "stdout",
     "output_type": "stream",
     "text": [
      "index = 0; item = 1\n",
      "index = 1; item = 8\n",
      "index = 2; item = 27\n",
      "index = 3; item = 64\n"
     ]
    }
   ],
   "source": [
    "for index, item in enumerate(seq):\n",
    "    print(f'index = {index}; item = {item}')"
   ]
  },
  {
   "cell_type": "code",
   "execution_count": 73,
   "metadata": {},
   "outputs": [
    {
     "data": {
      "text/plain": [
       "[1, 8, 27, 64]"
      ]
     },
     "execution_count": 73,
     "metadata": {},
     "output_type": "execute_result"
    }
   ],
   "source": [
    "# estimate the cubes of a list using enumerate()\n",
    "seq = [1, 2, 3, 4]\n",
    "\n",
    "for index, value in enumerate(seq):\n",
    "    seq[index] = value**3\n",
    "\n",
    "seq"
   ]
  },
  {
   "cell_type": "code",
   "execution_count": null,
   "metadata": {},
   "outputs": [],
   "source": []
  },
  {
   "cell_type": "markdown",
   "metadata": {},
   "source": [
    "#### Using the funtion ``range()`` with _for loops_.\n",
    "\n",
    "Sometimes...TODO ``range(start, stop, step)``\n",
    "\n",
    "In order of complexity from least to most complex, the most basic construction would be ``range(stop)`` in natural language would mean, return a sequence of numbers that start at zero and increment the values one by one up to the value (stop - 1). The next one would be  ``range(start, stop)`` which means start at the defined value and increment the values one by one up to the value (stop - 1). Lastly, the construction ``range(start, stop, step)`` in which the \"step\" argument controls the increase of the sequence (by default one by one)."
   ]
  },
  {
   "cell_type": "code",
   "execution_count": 74,
   "metadata": {},
   "outputs": [
    {
     "name": "stdout",
     "output_type": "stream",
     "text": [
      "0\n",
      "1\n",
      "2\n",
      "3\n",
      "4\n"
     ]
    }
   ],
   "source": [
    "for i in range(5):\n",
    "    print(i)"
   ]
  },
  {
   "cell_type": "markdown",
   "metadata": {},
   "source": [
    "### 6.2 While loops\n",
    "\n",
    "A **while loop** is a construct that apply a chunk of code until a condition is met. It has the following form:\n",
    "\n",
    "```python\n",
    "while condition:\n",
    "    code block\n",
    "```\n",
    "\n",
    "As an dummy example, let's create a while loop that increases the value of a variable up to a defined maximum value."
   ]
  },
  {
   "cell_type": "code",
   "execution_count": 75,
   "metadata": {},
   "outputs": [
    {
     "name": "stdout",
     "output_type": "stream",
     "text": [
      "0\n",
      "1\n",
      "2\n",
      "3\n",
      "4\n"
     ]
    }
   ],
   "source": [
    "foo = 0\n",
    "\n",
    "while foo < 5:\n",
    "    print(foo)\n",
    "    foo += 1  # remeber: foo += 1 is the same as foo = foo + 1"
   ]
  },
  {
   "cell_type": "code",
   "execution_count": 76,
   "metadata": {},
   "outputs": [
    {
     "name": "stdout",
     "output_type": "stream",
     "text": [
      "Notebook tested in 2022-08-20 using:\n",
      "Python 3.10.4 | packaged by conda-forge | (main, Mar 30 2022, 08:38:02) [MSC v.1916 64 bit (AMD64)]\n"
     ]
    }
   ],
   "source": [
    "import sys\n",
    "from datetime import date    \n",
    "today = date.today().isoformat()\n",
    "\n",
    "print(f'Notebook tested in {today} using:')\n",
    "print('Python', sys.version)"
   ]
  }
 ],
 "metadata": {
  "interpreter": {
   "hash": "073408933f31e8ac7f6b4bf29a6f48e1a2f613d7d5b6e5c6c58fd8fdc8389e42"
  },
  "kernelspec": {
   "display_name": "Python 3.9.12 ('main')",
   "language": "python",
   "name": "python3"
  },
  "language_info": {
   "codemirror_mode": {
    "name": "ipython",
    "version": 3
   },
   "file_extension": ".py",
   "mimetype": "text/x-python",
   "name": "python",
   "nbconvert_exporter": "python",
   "pygments_lexer": "ipython3",
   "version": "3.10.4"
  }
 },
 "nbformat": 4,
 "nbformat_minor": 4
}
