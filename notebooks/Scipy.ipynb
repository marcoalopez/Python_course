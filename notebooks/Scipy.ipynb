{
 "cells": [
  {
   "attachments": {},
   "cell_type": "markdown",
   "metadata": {},
   "source": [
    "# Scipy\n",
    "\n",
    "Copyright 2023 Marco A. Lopez-Sanchez.  \n",
    "Content under [Creative Commons Attribution license CC-BY 4.0](https://creativecommons.org/licenses/by/4.0/).\n",
    "\n",
    "> **Goal**:  \n",
    "> Using some Scipy capabilities by way of example\n",
    ">\n",
    "> **What it is?**  \n",
    ">Meaning **Sci**entific **Py**hon, this library provides some fundamental algorithms for scientific computing in Python.\n",
    ">\n",
    "> **What it is used for?**  \n",
    ">Scipy contains several modules summarized...TODO\n",
    ">\n",
    ">\n",
    "> **Resources**  \n",
    "> https://scipy.org/ (official website)  \n",
    "> https://docs.scipy.org/doc/scipy/ (official documentation) \n",
    "\n",
    "\n",
    "\n",
    "``scipy.integrate``  \n",
    "Numerical integration routines and differential equation solvers including an ordinary differential equation integrator. https://docs.scipy.org/doc/scipy/tutorial/integrate.html\n",
    "\n",
    "``scipy.linalg``  \n",
    "Very fast linear algebra routines and matrix decompositions extending beyond those provided in numpy.linalg. https://docs.scipy.org/doc/scipy/tutorial/linalg.html\n",
    "\n",
    "``scipy.optimize``  \n",
    "Function optimizers (minimizers) and root finding algorithms. https://docs.scipy.org/doc/scipy/tutorial/optimize.html\n",
    "\n",
    "``scipy.signal``  \n",
    "Signal processing tools. https://docs.scipy.org/doc/scipy/tutorial/signal.html\n",
    "\n",
    "``scipy.interpolate``  \n",
    "Routines for interpolation and smoothing data in 1, 2, and higher dimensions. https://docs.scipy.org/doc/scipy/tutorial/interpolate.html\n",
    "\n",
    "``scipy.fft``  \n",
    "Fast Fourier transforms. https://docs.scipy.org/doc/scipy/tutorial/fft.html\n",
    "\n",
    "``scipy.spatial``  \n",
    "Spatial data structures and algorithms such as triangulations, rotations, Voronoi diagrams, or convex hulls. https://docs.scipy.org/doc/scipy/tutorial/spatial.html\n",
    "\n",
    "``scipy.sparse``  \n",
    "Sparse matrices and sparse linear system solvers (e.g. eigenvalues/eigenvectors). https://docs.scipy.org/doc/scipy/tutorial/arpack.html\n",
    "\n",
    "``scipy.special``  \n",
    "This module contains several special functions of mathematical physics. https://docs.scipy.org/doc/scipy/tutorial/special.html\n",
    "\n",
    "``scipy.stats``  \n",
    "Standard continuous and discrete probability distributions (density functions, samplers, continuous distribution functions), various statistical tests, and more descriptive statistics. https://docs.scipy.org/doc/scipy/tutorial/stats.html"
   ]
  },
  {
   "cell_type": "code",
   "execution_count": 1,
   "metadata": {},
   "outputs": [],
   "source": [
    "import scipy as sp"
   ]
  },
  {
   "cell_type": "code",
   "execution_count": 2,
   "metadata": {},
   "outputs": [
    {
     "name": "stdout",
     "output_type": "stream",
     "text": [
      "Notebook tested using:\n",
      "Python 3.10.8 | packaged by conda-forge | (main, Nov 24 2022, 14:07:00) [MSC v.1916 64 bit (AMD64)]\n",
      "Scipy 1.9.3\n"
     ]
    }
   ],
   "source": [
    "import sys\n",
    "print('Notebook tested using:')\n",
    "print('Python', sys.version)\n",
    "print('Scipy', sp.__version__)"
   ]
  }
 ],
 "metadata": {
  "kernelspec": {
   "display_name": "main",
   "language": "python",
   "name": "python3"
  },
  "language_info": {
   "codemirror_mode": {
    "name": "ipython",
    "version": 3
   },
   "file_extension": ".py",
   "mimetype": "text/x-python",
   "name": "python",
   "nbconvert_exporter": "python",
   "pygments_lexer": "ipython3",
   "version": "3.10.8"
  },
  "orig_nbformat": 4,
  "vscode": {
   "interpreter": {
    "hash": "073408933f31e8ac7f6b4bf29a6f48e1a2f613d7d5b6e5c6c58fd8fdc8389e42"
   }
  }
 },
 "nbformat": 4,
 "nbformat_minor": 2
}
