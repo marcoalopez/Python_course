{
 "cells": [
  {
   "cell_type": "markdown",
   "metadata": {},
   "source": [
    "# Pandas\n",
    "\n",
    "Copyright 2022 Marco A. Lopez-Sanchez.  \n",
    "Content under [Creative Commons Attribution license CC-BY 4.0](https://creativecommons.org/licenses/by/4.0/).\n",
    "\n",
    "> **Goal**:  \n",
    "> Learn the basics of Pandas library\n",
    ">\n",
    "> **What it is?**  \n",
    ">A library for dealing with tabular data structures that includes efficient methods for reading and writing a wide variety of data (e.g. CSV files, Excel, etc.) and built-in plotting capabilities for explore the data. \n",
    ">\n",
    "> **What it is used for?**  \n",
    ">This is Python's default library for manipulating tabular-like datasets. Pandas adds to Python two data structures, called Series and DataFrames, as well as all the expected functionality for dealing with these data structures. Here we will focus on DataFrames, a 2D tabular data structure with labelled axes (rows and columns) in which columns are of potentially different types. If you normally use Excel-like applications to process your data, chances are that this will be your daily buddy in Python.\n",
    ">\n",
    "> **Resources**  \n",
    "> https://pandas.pydata.org/ (official website)  \n",
    "> https://pandas.pydata.org/docs/ (official documentation)  \n",
    "> [Python for Data Analysis](): A very nice book focus on Pandas from the main author of Pandas Wes McKinney   \n",
    "\n"
   ]
  },
  {
   "cell_type": "code",
   "execution_count": 1,
   "metadata": {},
   "outputs": [],
   "source": [
    "# how to import pandas\n",
    "import pandas as pd"
   ]
  },
  {
   "cell_type": "markdown",
   "metadata": {},
   "source": [
    "## Creating DataFrames\n",
    "\n",
    "TODO\n",
    "\n",
    "### Importing tabular data from files\n",
    "\n",
    "TODO\n",
    "\n",
    "### Inspecting your data\n",
    "\n",
    "TODO"
   ]
  },
  {
   "cell_type": "code",
   "execution_count": null,
   "metadata": {},
   "outputs": [],
   "source": [
    "# check all the data types in a dataframe (alternative: dataset.dtypes)\n",
    "dataset.info()"
   ]
  },
  {
   "cell_type": "markdown",
   "metadata": {},
   "source": [
    "### Summarize data"
   ]
  },
  {
   "cell_type": "markdown",
   "metadata": {},
   "source": [
    "## Modify your dataframes\n",
    "\n",
    "TODO: Subset, extend, reshape, sort, filtering, groupby, dealing with missing values\n",
    "\n",
    "\n",
    "\n",
    "### Handling missing values\n",
    "\n",
    "When we load data fraom a CSV file, an empty value in a numeric column will become NaN or ``np.nan``, which means \"not a number\" (some synonyms are ``null``, ``None``, ``nan`` or ``<NA>``).\n",
    "\n",
    "Todo: methods ``.fillna``, ``.dropna``, ``.isna``, ``.notna``\n",
    "\n"
   ]
  },
  {
   "cell_type": "code",
   "execution_count": null,
   "metadata": {},
   "outputs": [],
   "source": [
    "# drop all rows with nan values\n",
    "dataset.dropna()\n"
   ]
  },
  {
   "cell_type": "code",
   "execution_count": null,
   "metadata": {},
   "outputs": [],
   "source": [
    "# drop only the rows that are all nans, for columns will be: .dropna(axis=\"columns\", how=\"all\")\n",
    "dataset.dropna(how=\"all\")"
   ]
  },
  {
   "cell_type": "markdown",
   "metadata": {},
   "source": [
    "## Using of Pandas' plotting capabilities\n",
    "\n",
    "TODO"
   ]
  },
  {
   "cell_type": "code",
   "execution_count": 2,
   "metadata": {},
   "outputs": [
    {
     "name": "stdout",
     "output_type": "stream",
     "text": [
      "Notebook tested using:\n",
      "Python 3.9.12 (main, Apr  4 2022, 05:22:27) [MSC v.1916 64 bit (AMD64)]\n",
      "Pandas 1.4.3\n"
     ]
    }
   ],
   "source": [
    "import sys\n",
    "print('Notebook tested using:')\n",
    "print('Python', sys.version)\n",
    "print('Pandas', pd.__version__)"
   ]
  }
 ],
 "metadata": {
  "kernelspec": {
   "display_name": "Python 3.10.4 ('main')",
   "language": "python",
   "name": "python3"
  },
  "language_info": {
   "codemirror_mode": {
    "name": "ipython",
    "version": 3
   },
   "file_extension": ".py",
   "mimetype": "text/x-python",
   "name": "python",
   "nbconvert_exporter": "python",
   "pygments_lexer": "ipython3",
   "version": "3.9.13"
  },
  "vscode": {
   "interpreter": {
    "hash": "073408933f31e8ac7f6b4bf29a6f48e1a2f613d7d5b6e5c6c58fd8fdc8389e42"
   }
  }
 },
 "nbformat": 4,
 "nbformat_minor": 4
}
