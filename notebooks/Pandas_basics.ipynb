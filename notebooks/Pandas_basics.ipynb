{
 "cells": [
  {
   "cell_type": "markdown",
   "metadata": {},
   "source": [
    "# Pandas Dataframes\n",
    "\n",
    "> **What it is?**  \n",
    "A library for dealing with tabular data structures including built-in plotting using Matplotlib. See https://pandas.pydata.org/   \n",
    ">\n",
    "> **What it is used for?**  \n",
    "Data manipulation of tabular-like dataset. Pandas includes efficient methods for reading and writing a wide variety of data, including CSV files, Excel, etc."
   ]
  },
  {
   "cell_type": "code",
   "execution_count": 1,
   "metadata": {},
   "outputs": [],
   "source": [
    "# how to import pandas\n",
    "import pandas as pd"
   ]
  },
  {
   "cell_type": "code",
   "execution_count": null,
   "metadata": {},
   "outputs": [],
   "source": []
  },
  {
   "cell_type": "code",
   "execution_count": 5,
   "metadata": {},
   "outputs": [
    {
     "name": "stdout",
     "output_type": "stream",
     "text": [
      "Notebook tested using:\n",
      "Python 3.9.11 (main, Mar 30 2022, 02:45:55) [MSC v.1916 64 bit (AMD64)]\n",
      "Pandas 1.4.1\n"
     ]
    }
   ],
   "source": [
    "import sys\n",
    "print('Notebook tested using:')\n",
    "print('Python', sys.version)\n",
    "print('Pandas', pd.__version__)"
   ]
  }
 ],
 "metadata": {
  "interpreter": {
   "hash": "84560f56ecfa3f87bb2acd256437df3bdea56912525622043038c1ccf2e083ce"
  },
  "kernelspec": {
   "display_name": "Python 3.9.5 64-bit (conda)",
   "name": "python3"
  },
  "language_info": {
   "codemirror_mode": {
    "name": "ipython",
    "version": 3
   },
   "file_extension": ".py",
   "mimetype": "text/x-python",
   "name": "python",
   "nbconvert_exporter": "python",
   "pygments_lexer": "ipython3",
   "version": "3.9.11"
  },
  "orig_nbformat": 4
 },
 "nbformat": 4,
 "nbformat_minor": 2
}
