{
 "cells": [
  {
   "cell_type": "markdown",
   "id": "19f96e82-0eb7-4d5a-beea-f5e655a859f2",
   "metadata": {},
   "source": [
    "## Exercice X: Count characters in a string\n",
    "\n",
    "Count the character occurences in a string using a Python function and a Python dictionary"
   ]
  },
  {
   "cell_type": "code",
   "execution_count": 2,
   "id": "022803b8",
   "metadata": {},
   "outputs": [],
   "source": [
    "# Solution\n",
    "\n",
    "def count_char(string):\n",
    "    count = {}\n",
    "    for i in string:\n",
    "        if i in count:\n",
    "            count[i] += 1\n",
    "        else:\n",
    "            count[i] = 1\n",
    "    return count"
   ]
  },
  {
   "cell_type": "code",
   "execution_count": 3,
   "id": "04e19040",
   "metadata": {},
   "outputs": [
    {
     "data": {
      "text/plain": [
       "{'p': 2, 'e': 2, ' ': 1, 'l': 1, 'u': 1, 'i': 1, 's': 1}"
      ]
     },
     "execution_count": 3,
     "metadata": {},
     "output_type": "execute_result"
    }
   ],
   "source": [
    "count_char('pepe luis')"
   ]
  },
  {
   "cell_type": "code",
   "execution_count": null,
   "id": "aed12806",
   "metadata": {},
   "outputs": [],
   "source": []
  }
 ],
 "metadata": {
  "kernelspec": {
   "display_name": "Python 3.9.12 ('main')",
   "language": "python",
   "name": "python3"
  },
  "language_info": {
   "codemirror_mode": {
    "name": "ipython",
    "version": 3
   },
   "file_extension": ".py",
   "mimetype": "text/x-python",
   "name": "python",
   "nbconvert_exporter": "python",
   "pygments_lexer": "ipython3",
   "version": "3.9.12"
  },
  "vscode": {
   "interpreter": {
    "hash": "073408933f31e8ac7f6b4bf29a6f48e1a2f613d7d5b6e5c6c58fd8fdc8389e42"
   }
  }
 },
 "nbformat": 4,
 "nbformat_minor": 5
}
