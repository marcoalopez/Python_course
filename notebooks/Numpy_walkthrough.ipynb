{
 "cells": [
  {
   "attachments": {},
   "cell_type": "markdown",
   "metadata": {},
   "source": [
    "# Numpy arrays\n",
    "\n",
    "Copyright 2023 Marco A. Lopez-Sanchez.  \n",
    "Content under [Creative Commons Attribution-NonCommercial-ShareAlike 4.0 International (CC BY-NC-SA 4.0) License](http://creativecommons.org/licenses/by-nc-sa/4.0/).\n",
    "\n",
    "> **Goal**:  \n",
    "> Learn the basics of Numpy arrays\n",
    ">\n",
    "> **What it is?**  \n",
    "> Numpy is a core package for scientific computing in Python. Array programming provides a powerful, compact and expressive syntax for accessing, manipulating and operating on data in vectors, matrices and higher-dimensional arrays ([Harris et al. 2020](https://www.nature.com/articles/s41586-020-2649-2)) and thus it is the way to go when doing numerical computation and analysing scientific data in Python. Many other data-science libraries for Python are built onto NumPy, including [Pandas](https://pandas.pydata.org/) and [SciPy](https://scipy.org/) (i.e. **Sci**entific **Py**thon).\n",
    "> \n",
    "> **What it is used for?**  \n",
    "> Numpy arrays are the standard representation for numerical data in Python (Python lists or dictionaries are rarely used). The Numpy library basically provides a new data type called ``ndarray``, which stands for n-dimensional numeric array, and many methods to generate and operate on these arrays.\n",
    ">\n",
    "> **Useful resources**  \n",
    "> https://numpy.org/ (official website)  \n",
    "> https://numpy.org/doc/stable/ (official documentation)  \n",
    "> [Absolute basics for beginners tutorial](https://numpy.org/devdocs/user/absolute_beginners.html)  \n",
    "> [Introduction to numerical computing with Numpy](https://www.youtube.com/watch?v=ZB7BZMhfPgk&list=PLJwqroIMlqSFUnbwMrnS8G0obzQg1tNCI) (Very nice Youtube video tutorial)\n",
    "\n",
    "# Introducing Numpy Arrays"
   ]
  },
  {
   "cell_type": "code",
   "execution_count": 1,
   "metadata": {},
   "outputs": [
    {
     "name": "stdout",
     "output_type": "stream",
     "text": [
      "1.26.0\n"
     ]
    }
   ],
   "source": [
    "# how to import the library\n",
    "import numpy as np\n",
    "\n",
    "#print the numpy version\n",
    "print(np.__version__)"
   ]
  },
  {
   "cell_type": "code",
   "execution_count": 2,
   "metadata": {},
   "outputs": [
    {
     "data": {
      "text/plain": [
       "numpy.ndarray"
      ]
     },
     "execution_count": 2,
     "metadata": {},
     "output_type": "execute_result"
    }
   ],
   "source": [
    "# create a one dimensional array\n",
    "vector = np.array([1, 2, 3])\n",
    "type(vector)"
   ]
  },
  {
   "attachments": {},
   "cell_type": "markdown",
   "metadata": {},
   "source": [
    "## Inspecting your array\n",
    "\n",
    "The following commands return the\n",
    "\n",
    "``shape``  returns a tuple with the array dimension (a.k.a the shape)   \n",
    "``ndim``   returns the number of array dimension  \n",
    "``size``   returns the number of elements in the array  \n",
    "``dtype``  returns the data type of array elements  \n",
    "``nbytes`` returns the number of bytes occupied in the memory by the array "
   ]
  },
  {
   "cell_type": "code",
   "execution_count": 3,
   "metadata": {},
   "outputs": [
    {
     "name": "stdout",
     "output_type": "stream",
     "text": [
      "shape: (3,)\n",
      "dimensions: 1\n",
      "size: 3\n",
      "data type in array: int32\n",
      "Memory used: 1.2e-05 MB\n"
     ]
    }
   ],
   "source": [
    "print('shape:', vector.shape)\n",
    "print('dimensions:', vector.ndim)\n",
    "print('size:', vector.size)\n",
    "print('data type in array:', vector.dtype)\n",
    "print('Memory used:', vector.nbytes * 1e-6, 'MB')"
   ]
  },
  {
   "attachments": {},
   "cell_type": "markdown",
   "metadata": {},
   "source": [
    "# Why Numpy arrays?\n",
    "\n",
    "## Bit-wise operations\n",
    "\n",
    "TODO\n"
   ]
  },
  {
   "cell_type": "code",
   "execution_count": 4,
   "metadata": {},
   "outputs": [],
   "source": [
    "lista = [1, 2, 3, 4]\n",
    "array = np.array(lista)"
   ]
  },
  {
   "cell_type": "code",
   "execution_count": 5,
   "metadata": {},
   "outputs": [
    {
     "data": {
      "text/plain": [
       "array([2, 4, 6, 8])"
      ]
     },
     "execution_count": 5,
     "metadata": {},
     "output_type": "execute_result"
    }
   ],
   "source": [
    "# operation with a numpy array\n",
    "array * 2"
   ]
  },
  {
   "cell_type": "code",
   "execution_count": 6,
   "metadata": {},
   "outputs": [
    {
     "data": {
      "text/plain": [
       "[1, 2, 3, 4, 1, 2, 3, 4]"
      ]
     },
     "execution_count": 6,
     "metadata": {},
     "output_type": "execute_result"
    }
   ],
   "source": [
    "# operation with a Python list\n",
    "lista * 2"
   ]
  },
  {
   "cell_type": "code",
   "execution_count": 7,
   "metadata": {},
   "outputs": [],
   "source": [
    "a = np.array([1, 2, 3, 4])\n",
    "b = np.array([2, 3, 4, 5])\n"
   ]
  },
  {
   "cell_type": "code",
   "execution_count": 8,
   "metadata": {},
   "outputs": [
    {
     "data": {
      "text/plain": [
       "array([ 2,  6, 12, 20])"
      ]
     },
     "execution_count": 8,
     "metadata": {},
     "output_type": "execute_result"
    }
   ],
   "source": [
    "a * b"
   ]
  },
  {
   "cell_type": "code",
   "execution_count": 9,
   "metadata": {},
   "outputs": [
    {
     "data": {
      "text/plain": [
       "array([   1,    8,   81, 1024])"
      ]
     },
     "execution_count": 9,
     "metadata": {},
     "output_type": "execute_result"
    }
   ],
   "source": [
    "a ** b"
   ]
  },
  {
   "cell_type": "code",
   "execution_count": 10,
   "metadata": {},
   "outputs": [
    {
     "data": {
      "text/plain": [
       "array([ 2.71828183,  7.3890561 , 20.08553692, 54.59815003])"
      ]
     },
     "execution_count": 10,
     "metadata": {},
     "output_type": "execute_result"
    }
   ],
   "source": [
    "np.exp(a)"
   ]
  },
  {
   "attachments": {},
   "cell_type": "markdown",
   "metadata": {},
   "source": [
    "## Speed"
   ]
  },
  {
   "cell_type": "code",
   "execution_count": 11,
   "metadata": {},
   "outputs": [],
   "source": [
    "numpy_array = np.random.rand(10**7)  # create a large Numpy array of 10e7 random numbers\n",
    "python_list = numpy_array.tolist()   # generate a Python list with the same values"
   ]
  },
  {
   "cell_type": "code",
   "execution_count": 12,
   "metadata": {},
   "outputs": [
    {
     "name": "stdout",
     "output_type": "stream",
     "text": [
      "10.9 ms ± 91.4 µs per loop (mean ± std. dev. of 7 runs, 100 loops each)\n",
      "22.4 ms ± 3.65 ms per loop (mean ± std. dev. of 7 runs, 10 loops each)\n"
     ]
    }
   ],
   "source": [
    "# bechmark the speed of Numpy arrays\n",
    "%timeit np.sum(numpy_array)\n",
    "%timeit numpy_array * 2"
   ]
  },
  {
   "cell_type": "code",
   "execution_count": 13,
   "metadata": {},
   "outputs": [
    {
     "name": "stdout",
     "output_type": "stream",
     "text": [
      "37.4 ms ± 1.8 ms per loop (mean ± std. dev. of 7 runs, 10 loops each)\n",
      "337 ms ± 1.74 ms per loop (mean ± std. dev. of 7 runs, 1 loop each)\n"
     ]
    }
   ],
   "source": [
    "# bechmark the speed of a similar Python list\n",
    "%timeit sum(python_list)\n",
    "%timeit for n in python_list: n * 2"
   ]
  },
  {
   "attachments": {},
   "cell_type": "markdown",
   "metadata": {},
   "source": [
    "Numpy arrays are about four times faster than Python lists in the first case and about twelve times in the second case. These differences may vary depending on the size of the object, the type of operation, or the speed of your processor but in general numpy arrays will be much faster than standard Pyhon structured types such as _lists_, _tuples_, or _dics_ as they are designed specifically for numerical tasks.\n",
    "\n",
    "> 🚨**Gotcha**🚨\n",
    ">\n",
    "> A note of caution is that to take advantage of Numpy speed you should always use numpy methods with arrays instead of the ones that comes with the Python standard modules, that are designed to operate on standard Python structures. This is:\n",
    ">\n",
    ">``np.sum(array)`` or ``array.sum()`` 👍  \n",
    ">``sum(array)`` ❌\n",
    ">\n",
    "> Numpy methods also work on Python lists but it will convert the list into an array before applying the method."
   ]
  },
  {
   "attachments": {},
   "cell_type": "markdown",
   "metadata": {},
   "source": [
    "## Plenty of built-in methods for creating and operating with arrays\n",
    "\n",
    "Numpy contains a lot of methods for creating and operating with arrays making numerical work much easier. We will be gradually unpacking them in this notebook through practical examples."
   ]
  },
  {
   "attachments": {},
   "cell_type": "markdown",
   "metadata": {},
   "source": [
    "# Beware! Copy vs view & type coercion \n",
    "\n",
    "TODO"
   ]
  },
  {
   "attachments": {},
   "cell_type": "markdown",
   "metadata": {},
   "source": [
    "\n",
    "# Routines for creating one-dimensional arrays\n",
    "\n",
    "Numpy has a vast number of methods for creating arrays. Here we will stick to the most common ones by showing examples of common usage.\n",
    "\n",
    "## Equally spaced data: ``arange()`` and ``linspace()`` methods\n",
    "\n",
    "The method ``arange()`` is equivalent to the Python's ``range()`` method but it allows floats while the method ``linspace()`` create an array of evenly spaced float values in linear space; for log scales numpy has the ``logspace()`` method. Main difference between the two methods are in ``arange()`` you set the interval and the the distance between two adjacent values while in ``linspace()`` you set the interval and the number of samples to generate as follows\n"
   ]
  },
  {
   "cell_type": "code",
   "execution_count": 14,
   "metadata": {},
   "outputs": [
    {
     "data": {
      "text/plain": [
       "array([ 0. ,  0.5,  1. ,  1.5,  2. ,  2.5,  3. ,  3.5,  4. ,  4.5,  5. ,\n",
       "        5.5,  6. ,  6.5,  7. ,  7.5,  8. ,  8.5,  9. ,  9.5, 10. ])"
      ]
     },
     "execution_count": 14,
     "metadata": {},
     "output_type": "execute_result"
    }
   ],
   "source": [
    "# in arange() you define the range of values and the step (start, stop, step)\n",
    "# Gotcha: the interval in arange is (start stop] meaning that the sequence includes the start but not the stop\n",
    "np.arange(0, 10.5, 0.5)"
   ]
  },
  {
   "cell_type": "code",
   "execution_count": 15,
   "metadata": {},
   "outputs": [
    {
     "data": {
      "text/plain": [
       "array([ 0. ,  0.5,  1. ,  1.5,  2. ,  2.5,  3. ,  3.5,  4. ,  4.5,  5. ,\n",
       "        5.5,  6. ,  6.5,  7. ,  7.5,  8. ,  8.5,  9. ,  9.5, 10. ])"
      ]
     },
     "execution_count": 15,
     "metadata": {},
     "output_type": "execute_result"
    }
   ],
   "source": [
    "# in linspace() you define the range of values and the number of elements (start, stop, number of samples)\n",
    "np.linspace(0, 10, 21)  # if the number of sample is not declared it defaults to 50"
   ]
  },
  {
   "attachments": {},
   "cell_type": "markdown",
   "metadata": {},
   "source": [
    "Note that contrary to ``np.arange``, ``np.linspace`` **includes** the starting and end values of the sequence.\n",
    "\n",
    "The functions are used all the time to plot matemathical functions, for example:"
   ]
  },
  {
   "cell_type": "code",
   "execution_count": 16,
   "metadata": {},
   "outputs": [
    {
     "data": {
      "image/png": "[encoded data removed]",
      "text/plain": [
       "<Figure size 640x480 with 1 Axes>"
      ]
     },
     "metadata": {},
     "output_type": "display_data"
    }
   ],
   "source": [
    "x = np.linspace(-15, 15, 100)  # generate 100 linearly spaced numbers between -15 and 15\n",
    "y = np.sin(x) / x              # estimate the values of sin(x)/x\n",
    "y2 = 3 * np.sin(x) / x         # estimate the values of 3*sin(x)/x\n",
    "\n",
    "# plot this\n",
    "import matplotlib.pyplot as plt\n",
    "\n",
    "fig, ax = plt.subplots()\n",
    "\n",
    "ax.plot(x, y, 'o-', label='sin(x)/x')\n",
    "ax.plot(x, y2, label='3sin(x)/x')\n",
    "ax.set_ylabel('sine', fontsize=20)\n",
    "\n",
    "_ = ax.legend(loc='best')  # we use \"_ = something\" to omit the output in the notebook console"
   ]
  },
  {
   "attachments": {},
   "cell_type": "markdown",
   "metadata": {},
   "source": [
    "> 👉 More info on linspace and arange functions: https://realpython.com/np-linspace-numpy/\n",
    "\n",
    "Numpy contains many more methods for filling arrays, most of them summarised below. We will see with examples when these methods can be useful throughout the notebook.\n",
    "\n",
    "> **Filling with constant values methods**  \n",
    ">``np.empty``       : Return a new array of given shape and type, without initializing entries  \n",
    ">``np.zeros``       : Return a new array filled with zeros  \n",
    ">``np.ones``        : Return a new array filled with ones  \n",
    ">``np.full``        : Return a new array filled with a specific value defined by the user  \n",
    ">``np.zeros_like``  : Return an array of zeros with the same shape and type as a given array  \n",
    ">``np.ones_like``   : Return an array of ones with the same shape and type as a given array  \n",
    ">``np.full_like``   : Return an array filled with a specific value with the same shape and type as a given array  \n"
   ]
  },
  {
   "attachments": {},
   "cell_type": "markdown",
   "metadata": {},
   "source": [
    "#### Finger exercice.\n",
    "\n",
    "Plot a Wetherill concordia U-Pb curve considering that the relationship between this ratio and the $^{206}Pb / ^{238}U$ ratio is defined by the following relation:\n",
    "\n",
    "$$\n",
    "\\frac{^{206}Pb}{^{238}U} = exp \\left[ \\frac{\\lambda_{238}}{\\lambda_{235}} \\cdot \\ln \\left( 1 + \\frac{^{207}Pb^*}{^{235}U} \\right) \\right] - 1\n",
    "$$\n",
    "\n",
    "where  \n",
    "$\\lambda_{238} = 1.55125e-10$  \n",
    "$\\lambda_{235} = 9.8485e-10$  \n"
   ]
  },
  {
   "cell_type": "code",
   "execution_count": 17,
   "metadata": {},
   "outputs": [],
   "source": [
    "# 1. Write the wetherill function\n",
    "def wetherill():\n",
    "    \"\"\"Returns 206Pb/238U values using the 207Pb/235U values\n",
    "    \"\"\"\n",
    "    pass\n",
    "\n",
    "# 2. Generate the data of the curve using the wetherill funtion for a range of 207Pb/235U between 0-60\n",
    "\n",
    "\n",
    "# Plot the following U-Pb data to test for discordance or concordance TODO \n",
    "\n",
    "# 3. Make the plot\n",
    "#fig1, ax = plt.subplots()  # uncomment this"
   ]
  },
  {
   "attachments": {},
   "cell_type": "markdown",
   "metadata": {},
   "source": [
    "## Generating random numbers\n",
    "\n",
    "Random numbers are a very valuable tool for solving a wide range of scientific problems. Some common ones are:\n",
    "\n",
    "1. **Simulation**. Random numbers are often used to generate data that resembles real-world scenarios. For example, it can be used to simulate the random movement of particles (random walks) or Monte Carlo simulations to solve problems by simulating the underlying system. In general, everything related to stochastic models.\n",
    "\n",
    "2. **Testing algorithms**. Random numbers are often used to add noise to all kinds of data, which can be useful for testing algorithms/methods and evaluating their robustness.\n",
    "\n",
    "3. **Optimization**. Many optimization algorithms require the use of random numbers to explore the search space and find the optimal solution.\n",
    "\n",
    "4. **Sampling**. Random numbers are often used to sample from a distribution (model) or a population. For example, in statistics, random sampling is used to select a subset of data points from a larger dataset.\n",
    "\n",
    "Here we will see how to generate random numbers with Numpy and some examples of use in science."
   ]
  },
  {
   "cell_type": "code",
   "execution_count": 18,
   "metadata": {},
   "outputs": [
    {
     "name": "stdout",
     "output_type": "stream",
     "text": [
      "[ 3  2  4  1  7  6  6  7  5 10]\n"
     ]
    }
   ],
   "source": [
    "# Recommended (modern) version\n",
    "rgn = np.random.default_rng()  # create a random generator object\n",
    "\n",
    "# generate 10 random integers from the specified range\n",
    "integers = rgn.integers(low=1, high=10, size=10, endpoint=True)\n",
    "print(integers)"
   ]
  },
  {
   "cell_type": "code",
   "execution_count": 19,
   "metadata": {},
   "outputs": [
    {
     "name": "stdout",
     "output_type": "stream",
     "text": [
      "[0.68503532 0.56818584 0.71889195 0.61775444 0.60913892 0.7473039\n",
      " 0.72154524 0.88360125 0.12619132 0.47582981]\n"
     ]
    }
   ],
   "source": [
    "# generate 10 random floats drawn from a uniform distribution between 0 and 1\n",
    "irrationals = rgn.random(size=10)\n",
    "print(irrationals)"
   ]
  },
  {
   "cell_type": "code",
   "execution_count": 20,
   "metadata": {},
   "outputs": [
    {
     "data": {
      "image/png": "[encoded data removed]",
      "text/plain": [
       "<Figure size 640x480 with 1 Axes>"
      ]
     },
     "metadata": {},
     "output_type": "display_data"
    }
   ],
   "source": [
    "# generate 1000 random numbers from a standard normal distribution\n",
    "normal = rgn.standard_normal(size=1000)\n",
    "_ = plt.hist(normal, bins='fd')  # \"_ =\" hides the output in the notebook, displaying only the figure"
   ]
  },
  {
   "cell_type": "code",
   "execution_count": 21,
   "metadata": {},
   "outputs": [
    {
     "data": {
      "text/plain": [
       "array([5, 2, 2])"
      ]
     },
     "execution_count": 21,
     "metadata": {},
     "output_type": "execute_result"
    }
   ],
   "source": [
    "# simulate die rolls\n",
    "rgn.choice([1,2,3,4,5,6], size=3)"
   ]
  },
  {
   "attachments": {},
   "cell_type": "markdown",
   "metadata": {},
   "source": [
    "TODO\n",
    "```python\n",
    "legacy_method = np.random.randint(1, 10, 10)\n",
    "```"
   ]
  },
  {
   "attachments": {},
   "cell_type": "markdown",
   "metadata": {},
   "source": [
    "# Multi-dimensional arrays\n",
    "\n",
    "TODO"
   ]
  },
  {
   "cell_type": "code",
   "execution_count": 22,
   "metadata": {},
   "outputs": [],
   "source": [
    "# create a two dimensional array (e.g. a matrix, a grayscale image, etc.)\n",
    "matrix = np.array([[1, 2, 3],\n",
    "                   [4, 5, 6],\n",
    "                   [7, 8, 9]])"
   ]
  },
  {
   "cell_type": "code",
   "execution_count": 23,
   "metadata": {},
   "outputs": [
    {
     "name": "stdout",
     "output_type": "stream",
     "text": [
      "shape: (3, 3) being (rows, columns)\n",
      "dimensions: 2\n",
      "size: 9\n"
     ]
    }
   ],
   "source": [
    "print(f'shape: {matrix.shape} being (rows, columns)')\n",
    "print(f'dimensions: {matrix.ndim}')\n",
    "print(f'size: {matrix.size}')"
   ]
  },
  {
   "cell_type": "code",
   "execution_count": 24,
   "metadata": {},
   "outputs": [
    {
     "data": {
      "text/plain": [
       "array([[1, 2],\n",
       "       [3, 4]])"
      ]
     },
     "execution_count": 24,
     "metadata": {},
     "output_type": "execute_result"
    }
   ],
   "source": [
    "# reshape an array\n",
    "vals = np.array([1, 2, 3, 4])\n",
    "vals.reshape(2, 2)  # reshape a 1d array in a 2x2 matrix"
   ]
  },
  {
   "cell_type": "code",
   "execution_count": 25,
   "metadata": {},
   "outputs": [
    {
     "data": {
      "text/plain": [
       "array([1, 2, 3, 4, 5, 6, 7, 8, 9])"
      ]
     },
     "execution_count": 25,
     "metadata": {},
     "output_type": "execute_result"
    }
   ],
   "source": [
    "# flatten an n-dimensional array\n",
    "matrix.ravel()"
   ]
  },
  {
   "attachments": {},
   "cell_type": "markdown",
   "metadata": {},
   "source": [
    "> 👉 An alternative to ``ravel()`` is the method ``flatten()``. Both convert a multi-dimensional array into a 1-d one but with a subtle difference, ``ravel()`` returns a view of the original array while ``flatten()`` returns a copy, i.e., a new array. To sum up, ``ravel()`` is more efficient and ``flatten()`` is more safe."
   ]
  },
  {
   "cell_type": "code",
   "execution_count": 26,
   "metadata": {},
   "outputs": [],
   "source": [
    "# Exercice X\n",
    "# Flat the array below using the ravel() method and save them in a new variable. Modify the first element of the new variable. Check the original array. Do the same using the flatten().\n",
    "\n",
    "original_array = np.arange(16).reshape(4, 4)\n",
    "\n",
    "# TODO"
   ]
  },
  {
   "attachments": {},
   "cell_type": "markdown",
   "metadata": {},
   "source": [
    "## Matrix multiplication and transposition"
   ]
  },
  {
   "cell_type": "code",
   "execution_count": 27,
   "metadata": {},
   "outputs": [
    {
     "data": {
      "text/plain": [
       "array([[1, 4, 7],\n",
       "       [2, 5, 8],\n",
       "       [3, 6, 9]])"
      ]
     },
     "execution_count": 27,
     "metadata": {},
     "output_type": "execute_result"
    }
   ],
   "source": [
    "# transpose a matrix\n",
    "transposed_mat = matrix.T\n",
    "transposed_mat"
   ]
  },
  {
   "cell_type": "code",
   "execution_count": 28,
   "metadata": {},
   "outputs": [
    {
     "data": {
      "text/plain": [
       "array([[ 14,  32,  50],\n",
       "       [ 32,  77, 122],\n",
       "       [ 50, 122, 194]])"
      ]
     },
     "execution_count": 28,
     "metadata": {},
     "output_type": "execute_result"
    }
   ],
   "source": [
    "# matrix multiplication, note the use of Python operator @\n",
    "matrix @ transposed_mat"
   ]
  },
  {
   "cell_type": "code",
   "execution_count": 29,
   "metadata": {},
   "outputs": [
    {
     "data": {
      "text/plain": [
       "array([[ 1,  8, 21],\n",
       "       [ 8, 25, 48],\n",
       "       [21, 48, 81]])"
      ]
     },
     "execution_count": 29,
     "metadata": {},
     "output_type": "execute_result"
    }
   ],
   "source": [
    "# bitwise array multiplication\n",
    "matrix * transposed_mat"
   ]
  },
  {
   "attachments": {},
   "cell_type": "markdown",
   "metadata": {},
   "source": [
    "## Indexing and slicing in multi-dimensional arrays\n",
    "\n",
    "TODO"
   ]
  },
  {
   "attachments": {},
   "cell_type": "markdown",
   "metadata": {},
   "source": [
    "## Indexing and slicing exercices\n",
    "\n",
    "### Exercice X: indexing in a 2D array\n",
    "TODO"
   ]
  },
  {
   "cell_type": "code",
   "execution_count": null,
   "metadata": {},
   "outputs": [],
   "source": []
  },
  {
   "attachments": {},
   "cell_type": "markdown",
   "metadata": {},
   "source": [
    "### Exercice X: indexing in a 3D array\n",
    "\n",
    "Look at the 3D array below\n",
    "\n",
    "[img TODO]()\n",
    "\n",
    "create a similar array combining the methods ``arange`` and ``reshape`` and store them in a variable named ``rectangle``. Then use slicing to answer the questions below."
   ]
  },
  {
   "cell_type": "code",
   "execution_count": 30,
   "metadata": {},
   "outputs": [],
   "source": [
    "# create the array"
   ]
  },
  {
   "cell_type": "code",
   "execution_count": 31,
   "metadata": {},
   "outputs": [],
   "source": [
    "# get the top side (2D array)"
   ]
  },
  {
   "cell_type": "code",
   "execution_count": 32,
   "metadata": {},
   "outputs": [],
   "source": [
    "# get the front left side (2D array)"
   ]
  },
  {
   "cell_type": "code",
   "execution_count": 33,
   "metadata": {},
   "outputs": [],
   "source": [
    "# get the front righ side (2D array)"
   ]
  },
  {
   "attachments": {},
   "cell_type": "markdown",
   "metadata": {},
   "source": [
    "## Routines for creating multi-dimensional arrays\n",
    "\n",
    "TODO: Explain briefly with examples when this is neccesary and how to do it...\n"
   ]
  },
  {
   "attachments": {},
   "cell_type": "markdown",
   "metadata": {},
   "source": [
    "## Meshgrid, mgrid, and ogrid\n",
    "\n",
    "``np.matrix.fill``"
   ]
  },
  {
   "attachments": {},
   "cell_type": "markdown",
   "metadata": {},
   "source": [
    "# Computation rules with arrays\n",
    "\n",
    "TODO\n",
    "\n",
    "> **Rule 1**: Operations between numpy arrays are first checked to match the proper shape (a.k.a. broadcasting).\n",
    "\n",
    "TODO\n",
    "\n",
    "> **Rule 2**: mathematical operators (+, -, *, np.log, etc.) apply element by element.  \n",
    "\n",
    "TODO\n",
    "\n",
    "> **Rule 3**: Reduction operations (e.g. np.mean, np.std, np.sum, etc.) apply to the whole array unless an axis is specified.  \n",
    "\n",
    "TODO\n",
    "\n",
    "> **Rule 4**: Missing values (i.e. np.nan) propagate unless explicitly ignored (you should use nanmean, nansum, etc).  \n",
    "\n",
    "TODO\n"
   ]
  },
  {
   "attachments": {},
   "cell_type": "markdown",
   "metadata": {},
   "source": [
    "## Broadcasting (with examples)"
   ]
  },
  {
   "cell_type": "code",
   "execution_count": 34,
   "metadata": {},
   "outputs": [
    {
     "name": "stdout",
     "output_type": "stream",
     "text": [
      "[[1. 1.]\n",
      " [1. 1.]\n",
      " [1. 1.]]\n"
     ]
    }
   ],
   "source": [
    "arr = np.ones((3, 2))\n",
    "print(arr)"
   ]
  },
  {
   "cell_type": "code",
   "execution_count": 35,
   "metadata": {},
   "outputs": [
    {
     "data": {
      "text/plain": [
       "array([[3., 3.],\n",
       "       [3., 3.],\n",
       "       [3., 3.]])"
      ]
     },
     "execution_count": 35,
     "metadata": {},
     "output_type": "execute_result"
    }
   ],
   "source": [
    "arr * 3"
   ]
  },
  {
   "cell_type": "code",
   "execution_count": 36,
   "metadata": {},
   "outputs": [
    {
     "data": {
      "text/plain": [
       "array([[2., 3.],\n",
       "       [2., 3.],\n",
       "       [2., 3.]])"
      ]
     },
     "execution_count": 36,
     "metadata": {},
     "output_type": "execute_result"
    }
   ],
   "source": [
    "arr * np.array([2, 3])"
   ]
  },
  {
   "cell_type": "code",
   "execution_count": 37,
   "metadata": {},
   "outputs": [
    {
     "data": {
      "text/plain": [
       "array([[2., 2.],\n",
       "       [3., 3.],\n",
       "       [4., 4.]])"
      ]
     },
     "execution_count": 37,
     "metadata": {},
     "output_type": "execute_result"
    }
   ],
   "source": [
    "arr * np.array([2, 3, 4]).reshape(3, 1)"
   ]
  },
  {
   "attachments": {},
   "cell_type": "markdown",
   "metadata": {},
   "source": [
    "### Exercice X: convert an RGB image into greyscale and project the distribution of grey values\n",
    "\n",
    "TODO\n",
    "\n",
    "Instructions\n",
    "\n",
    "https://en.wikipedia.org/wiki/Grayscale#Converting_color_to_grayscale\n",
    "\n",
    "$$\n",
    "grayImage = 0.2126 * Red_{value} + 0.7152 * Green_{value} + 0.0722 * Blue_{value} \n",
    "$$\n",
    "\n",
    "TODO"
   ]
  },
  {
   "attachments": {},
   "cell_type": "markdown",
   "metadata": {},
   "source": [
    "## Using masks\n",
    "\n",
    "TODO"
   ]
  },
  {
   "cell_type": "code",
   "execution_count": 38,
   "metadata": {},
   "outputs": [
    {
     "data": {
      "text/plain": [
       "array([[1, 2, 3],\n",
       "       [4, 5, 6],\n",
       "       [7, 8, 9]])"
      ]
     },
     "execution_count": 38,
     "metadata": {},
     "output_type": "execute_result"
    }
   ],
   "source": [
    "matrix"
   ]
  },
  {
   "cell_type": "code",
   "execution_count": 39,
   "metadata": {},
   "outputs": [
    {
     "data": {
      "text/plain": [
       "array([[ True,  True,  True],\n",
       "       [ True, False, False],\n",
       "       [False, False, False]])"
      ]
     },
     "execution_count": 39,
     "metadata": {},
     "output_type": "execute_result"
    }
   ],
   "source": [
    "# element-wise conditionals\n",
    "matrix < 5"
   ]
  },
  {
   "attachments": {},
   "cell_type": "markdown",
   "metadata": {},
   "source": [
    "bitwise logical operators (the ones to use with arrays!)\n",
    "```python\n",
    "&  # bitwise AND  \n",
    "|  # bitwise OR \n",
    "~  # bitwise NOT\n",
    "^  # bitwise XOR\n",
    "```"
   ]
  },
  {
   "cell_type": "code",
   "execution_count": 40,
   "metadata": {},
   "outputs": [
    {
     "data": {
      "text/plain": [
       "array([[False, False,  True],\n",
       "       [ True,  True,  True],\n",
       "       [ True, False, False]])"
      ]
     },
     "execution_count": 40,
     "metadata": {},
     "output_type": "execute_result"
    }
   ],
   "source": [
    "(matrix > 2) & (matrix < 8)"
   ]
  },
  {
   "cell_type": "code",
   "execution_count": 41,
   "metadata": {},
   "outputs": [
    {
     "data": {
      "text/plain": [
       "array([[False, False, False],\n",
       "       [False,  True,  True],\n",
       "       [ True,  True,  True]])"
      ]
     },
     "execution_count": 41,
     "metadata": {},
     "output_type": "execute_result"
    }
   ],
   "source": [
    "~(matrix < 5)  # same as matrix > 5"
   ]
  },
  {
   "attachments": {},
   "cell_type": "markdown",
   "metadata": {},
   "source": [
    "## Other practical methods integrated in Numpy (with examples)\n",
    "\n",
    "TODO"
   ]
  },
  {
   "attachments": {},
   "cell_type": "markdown",
   "metadata": {},
   "source": [
    "# Going further\n",
    "\n",
    "TODO"
   ]
  },
  {
   "cell_type": "code",
   "execution_count": 42,
   "metadata": {},
   "outputs": [
    {
     "name": "stdout",
     "output_type": "stream",
     "text": [
      "Notebook tested in 2023-10-24 using:\n",
      "Python 3.10.13 | packaged by Anaconda, Inc. | (main, Sep 11 2023, 13:24:38) [MSC v.1916 64 bit (AMD64)]\n",
      "Numpy 1.26.0\n",
      "Matplotlib 3.7.2\n"
     ]
    }
   ],
   "source": [
    "import sys\n",
    "from datetime import date    \n",
    "today = date.today().isoformat()\n",
    "import matplotlib as mpl\n",
    "\n",
    "print(f'Notebook tested in {today} using:')\n",
    "print('Python', sys.version)\n",
    "print('Numpy', np.__version__)\n",
    "print('Matplotlib', mpl.__version__)"
   ]
  }
 ],
 "metadata": {
  "interpreter": {
   "hash": "073408933f31e8ac7f6b4bf29a6f48e1a2f613d7d5b6e5c6c58fd8fdc8389e42"
  },
  "kernelspec": {
   "display_name": "Python 3 (ipykernel)",
   "language": "python",
   "name": "python3"
  },
  "language_info": {
   "codemirror_mode": {
    "name": "ipython",
    "version": 3
   },
   "file_extension": ".py",
   "mimetype": "text/x-python",
   "name": "python",
   "nbconvert_exporter": "python",
   "pygments_lexer": "ipython3",
   "version": "3.10.13"
  }
 },
 "nbformat": 4,
 "nbformat_minor": 4
}
