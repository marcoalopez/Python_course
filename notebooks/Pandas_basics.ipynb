{
 "cells": [
  {
   "cell_type": "markdown",
   "metadata": {},
   "source": [
    "# Pandas\n",
    "\n",
    "> **What it is?**  \n",
    "A library for dealing with tabular data structures that includes efficient methods for reading and writing a wide variety of data (e.g. CSV files, Excel, etc.) and built-in plotting. \n",
    ">\n",
    "> **What it is used for?**  \n",
    "This is Python's default library for manipulating tabular-like datasets. It mainly adds to Python a data structure called DataFrame containing labelled axes (rows and columns), as well as all the expected functionality for dealing with these data structures. It is largely based on the language R and R dataframes. If you normally used Excel-like applications to process your data, chances are that this will be your daily buddy in Python.\n",
    ">\n",
    "> **Resources**  \n",
    "> https://pandas.pydata.org/ (official website)  \n",
    "> https://pandas.pydata.org/docs/ (official documentation)   \n",
    "\n"
   ]
  },
  {
   "cell_type": "code",
   "execution_count": 1,
   "metadata": {},
   "outputs": [],
   "source": [
    "# how to import pandas\n",
    "import pandas as pd"
   ]
  },
  {
   "cell_type": "markdown",
   "metadata": {},
   "source": [
    "## Creating DataFrames\n",
    "\n",
    "TODO"
   ]
  },
  {
   "cell_type": "markdown",
   "metadata": {},
   "source": [
    "### Importing tabular data from files\n",
    "\n",
    "TODO"
   ]
  },
  {
   "cell_type": "code",
   "execution_count": null,
   "metadata": {},
   "outputs": [],
   "source": []
  },
  {
   "cell_type": "code",
   "execution_count": null,
   "metadata": {},
   "outputs": [],
   "source": [
    "# e.g. save a DataFrame as an excel file\n",
    "dataset.to_excel('my_excel_file.xlsx', sheet_name='dataset_1')"
   ]
  },
  {
   "cell_type": "code",
   "execution_count": 5,
   "metadata": {},
   "outputs": [
    {
     "name": "stdout",
     "output_type": "stream",
     "text": [
      "Notebook tested using:\n",
      "Python 3.9.11 (main, Mar 30 2022, 02:45:55) [MSC v.1916 64 bit (AMD64)]\n",
      "Pandas 1.4.1\n"
     ]
    }
   ],
   "source": [
    "import sys\n",
    "print('Notebook tested using:')\n",
    "print('Python', sys.version)\n",
    "print('Pandas', pd.__version__)"
   ]
  }
 ],
 "metadata": {
  "interpreter": {
   "hash": "84560f56ecfa3f87bb2acd256437df3bdea56912525622043038c1ccf2e083ce"
  },
  "kernelspec": {
   "display_name": "Python 3 (ipykernel)",
   "language": "python",
   "name": "python3"
  },
  "language_info": {
   "codemirror_mode": {
    "name": "ipython",
    "version": 3
   },
   "file_extension": ".py",
   "mimetype": "text/x-python",
   "name": "python",
   "nbconvert_exporter": "python",
   "pygments_lexer": "ipython3",
   "version": "3.9.12"
  }
 },
 "nbformat": 4,
 "nbformat_minor": 4
}
