{
 "cells": [
  {
   "cell_type": "markdown",
   "metadata": {},
   "source": [
    "# Numpy arrays\n",
    "\n",
    "Copyright 2022 Marco A. Lopez-Sanchez.  \n",
    "Content under [Creative Commons Attribution license CC-BY 4.0](https://creativecommons.org/licenses/by/4.0/).\n",
    "\n",
    "> **Goal**:  \n",
    "> Learn the basics of Numpy arrays\n",
    ">\n",
    "> **What it is?**  \n",
    "> Numpy is a core package for scientific computing in Python. Array programming provides a powerful, compact and expressive syntax for accessing, manipulating and operating on data in vectors, matrices and higher-dimensional arrays ([Harris et al. 2020](https://www.nature.com/articles/s41586-020-2649-2)) and thus it is the way to go when doing numerical computation and analysing scientific data in Python. Many other data-science libraries for Python are built onto NumPy, including [Pandas](https://pandas.pydata.org/) and [SciPy](https://scipy.org/) (i.e. **Sci**entific **Py**thon).\n",
    "> \n",
    "> **What it is used for?**  \n",
    "> Numpy arrays are the standard representation for numerical data in Python (Python lists or dictionaries are rarely used). The Numpy library basically provides a new data type called ``ndarray``, which stands for n-dimensional numeric array, and many methods to generate and operate on these arrays.\n",
    ">\n",
    "> **Useful resources**  \n",
    "> https://numpy.org/ (official website)  \n",
    "> https://numpy.org/doc/stable/ (official documentation)  \n",
    "> [Absolute basics for beginners tutorial](https://numpy.org/devdocs/user/absolute_beginners.html)  \n",
    "> [Introduction to numerical computing with Numpy](https://www.youtube.com/watch?v=ZB7BZMhfPgk&list=PLJwqroIMlqSFUnbwMrnS8G0obzQg1tNCI) (Very nice Youtube video tutorial)\n",
    "\n",
    "## Introducing Numpy Arrays"
   ]
  },
  {
   "cell_type": "code",
   "execution_count": 1,
   "metadata": {},
   "outputs": [
    {
     "name": "stdout",
     "output_type": "stream",
     "text": [
      "1.23.1\n"
     ]
    }
   ],
   "source": [
    "# how to import the library\n",
    "import numpy as np\n",
    "\n",
    "#print the numpy version\n",
    "print(np.__version__)"
   ]
  },
  {
   "cell_type": "code",
   "execution_count": 2,
   "metadata": {},
   "outputs": [
    {
     "data": {
      "text/plain": [
       "numpy.ndarray"
      ]
     },
     "execution_count": 2,
     "metadata": {},
     "output_type": "execute_result"
    }
   ],
   "source": [
    "# create a one dimensional array\n",
    "vector = np.array([1, 2, 3])\n",
    "type(vector)"
   ]
  },
  {
   "cell_type": "markdown",
   "metadata": {},
   "source": [
    "### Inspecting your array\n",
    "\n",
    "The following commands return the\n",
    "\n",
    "``shape``  returns a tuple with the array dimension (i.e. shape)   \n",
    "``ndim``   returns the number of array dimension  \n",
    "``size``   returns the number of elements in the array  \n",
    "``dtype``  returns the data type of array elements  \n",
    "``nbytes`` returns the number of bytes occupied in the memory by the array "
   ]
  },
  {
   "cell_type": "code",
   "execution_count": 3,
   "metadata": {},
   "outputs": [
    {
     "name": "stdout",
     "output_type": "stream",
     "text": [
      "shape: (3,)\n",
      "dimensions: 1\n",
      "size: 3\n",
      "data type in array: int32\n",
      "Memory used: 1.2e-05 MB\n"
     ]
    }
   ],
   "source": [
    "print(f'shape: {vector.shape}')\n",
    "print(f'dimensions: {vector.ndim}')\n",
    "print(f'size: {vector.size}')\n",
    "print(f'data type in array: {vector.dtype}')\n",
    "print(f'Memory used: {vector.nbytes * 1e-6} MB')"
   ]
  },
  {
   "cell_type": "markdown",
   "metadata": {},
   "source": [
    "> ### Beware!  \n",
    "> #### Copy vs view\n",
    "> TODO \n",
    ">\n",
    "> #### Beware of type coercion\n",
    "> Assigning a float into an int32 array will truncate the decimal part"
   ]
  },
  {
   "cell_type": "markdown",
   "metadata": {},
   "source": [
    "### Multidimensional arrays"
   ]
  },
  {
   "cell_type": "code",
   "execution_count": 4,
   "metadata": {},
   "outputs": [],
   "source": [
    "# create a two dimensional array (e.g. a matrix, a grayscale image, etc.)\n",
    "matrix = np.array([[1, 2, 3],\n",
    "                   [4, 5, 6],\n",
    "                   [7, 8, 9]])"
   ]
  },
  {
   "cell_type": "code",
   "execution_count": 5,
   "metadata": {},
   "outputs": [
    {
     "name": "stdout",
     "output_type": "stream",
     "text": [
      "shape: (3, 3)\n",
      "dimensions: 2\n",
      "size: 9\n"
     ]
    }
   ],
   "source": [
    "print(f'shape: {matrix.shape}')\n",
    "print(f'dimensions: {matrix.ndim}')\n",
    "print(f'size: {matrix.size}')"
   ]
  },
  {
   "cell_type": "code",
   "execution_count": 6,
   "metadata": {},
   "outputs": [
    {
     "data": {
      "text/plain": [
       "array([[1, 2],\n",
       "       [3, 4]])"
      ]
     },
     "execution_count": 6,
     "metadata": {},
     "output_type": "execute_result"
    }
   ],
   "source": [
    "# reshape an array\n",
    "vals = np.array([1, 2, 3, 4])\n",
    "vals.reshape(2, 2)  # reshape a 1d array in a 2x2 matrix"
   ]
  },
  {
   "cell_type": "code",
   "execution_count": 7,
   "metadata": {},
   "outputs": [
    {
     "data": {
      "text/plain": [
       "array([1, 2, 3, 4, 5, 6, 7, 8, 9])"
      ]
     },
     "execution_count": 7,
     "metadata": {},
     "output_type": "execute_result"
    }
   ],
   "source": [
    "# flatten an n-dimensional array\n",
    "matrix.ravel()"
   ]
  },
  {
   "cell_type": "markdown",
   "metadata": {},
   "source": [
    "### Simple array operations\n",
    "\n",
    "TODO"
   ]
  },
  {
   "cell_type": "code",
   "execution_count": 8,
   "metadata": {},
   "outputs": [
    {
     "data": {
      "text/plain": [
       "array([ 2,  6, 12, 20])"
      ]
     },
     "execution_count": 8,
     "metadata": {},
     "output_type": "execute_result"
    }
   ],
   "source": [
    "a = np.array([1, 2, 3, 4])\n",
    "b = np.array([2, 3, 4, 5])\n",
    "a * b"
   ]
  },
  {
   "cell_type": "code",
   "execution_count": 9,
   "metadata": {},
   "outputs": [
    {
     "data": {
      "text/plain": [
       "array([   1,    8,   81, 1024])"
      ]
     },
     "execution_count": 9,
     "metadata": {},
     "output_type": "execute_result"
    }
   ],
   "source": [
    "a ** b"
   ]
  },
  {
   "cell_type": "code",
   "execution_count": 10,
   "metadata": {},
   "outputs": [
    {
     "data": {
      "text/plain": [
       "array([ 2.71828183,  7.3890561 , 20.08553692, 54.59815003])"
      ]
     },
     "execution_count": 10,
     "metadata": {},
     "output_type": "execute_result"
    }
   ],
   "source": [
    "np.exp(a)"
   ]
  },
  {
   "cell_type": "markdown",
   "metadata": {},
   "source": [
    "## Indexing and slicing arrays\n",
    "\n",
    "TODO"
   ]
  },
  {
   "cell_type": "markdown",
   "metadata": {},
   "source": [
    "## Routines for creating arrays\n",
    "\n",
    "TODO: Explain briefly and link a detailed website with..."
   ]
  },
  {
   "cell_type": "code",
   "execution_count": 11,
   "metadata": {},
   "outputs": [],
   "source": [
    "import matplotlib.pyplot as plt"
   ]
  },
  {
   "cell_type": "code",
   "execution_count": 12,
   "metadata": {},
   "outputs": [
    {
     "data": {
      "image/png": "[encoded data removed]",
      "text/plain": [
       "<Figure size 432x288 with 1 Axes>"
      ]
     },
     "metadata": {
      "needs_background": "light"
     },
     "output_type": "display_data"
    }
   ],
   "source": [
    "x = np.linspace(-15, 15, 100)  # generate 100 linearly spaced numbers between -15 and 15\n",
    "y = np.sin(x) / x              # estimate the values of sin(x)/x\n",
    "y2 = 3 * np.sin(x) / x         # estimate the values of 3*sin(x)/x\n",
    "\n",
    "# plot this\n",
    "fig, ax = plt.subplots()\n",
    "\n",
    "ax.plot(x, y, 'o-', label='sin(x)/x')\n",
    "ax.plot(x, y2, label='3sin(x)/x')\n",
    "ax.set_ylabel('sine', fontsize=20)\n",
    "\n",
    "_ = ax.legend(loc='best')  # we use \"_ = something\" to omit the output in the notebook console"
   ]
  },
  {
   "cell_type": "markdown",
   "metadata": {},
   "source": [
    "## Computations with arrays\n",
    "\n",
    "TODO\n",
    "\n",
    ">##### **Rule 1**: operations between numpy arrays are first checked to match the proper shape.\n",
    ">##### **Rule 2**: mathematical operators (+, -, *, log, etc.) apply element by element.  \n",
    ">##### **Rule 3**: Reduction operations (e.g. mean, std, sum, etc.) apply to the whole array unless an axis is specified.  \n",
    ">##### **Rule 4**: Missing values (i.e. np.nan) propagate unless explicitly ignored (you should use nanmean, nansum, etc).  \n",
    "\n",
    "### Bitwise operations, broadcasting, and matrix multiplication and transposition\n",
    "\n",
    "TODO"
   ]
  },
  {
   "cell_type": "code",
   "execution_count": 13,
   "metadata": {},
   "outputs": [
    {
     "data": {
      "text/plain": [
       "array([[1, 4, 7],\n",
       "       [2, 5, 8],\n",
       "       [3, 6, 9]])"
      ]
     },
     "execution_count": 13,
     "metadata": {},
     "output_type": "execute_result"
    }
   ],
   "source": [
    "# transpose a matrix\n",
    "transposed_mat = matrix.T\n",
    "transposed_mat"
   ]
  },
  {
   "cell_type": "code",
   "execution_count": 14,
   "metadata": {},
   "outputs": [
    {
     "data": {
      "text/plain": [
       "array([[ 14,  32,  50],\n",
       "       [ 32,  77, 122],\n",
       "       [ 50, 122, 194]])"
      ]
     },
     "execution_count": 14,
     "metadata": {},
     "output_type": "execute_result"
    }
   ],
   "source": [
    "# matrix multiplication, note the use of Python operator @\n",
    "matrix @ transposed_mat"
   ]
  },
  {
   "cell_type": "code",
   "execution_count": 15,
   "metadata": {},
   "outputs": [
    {
     "data": {
      "text/plain": [
       "array([[ 1,  8, 21],\n",
       "       [ 8, 25, 48],\n",
       "       [21, 48, 81]])"
      ]
     },
     "execution_count": 15,
     "metadata": {},
     "output_type": "execute_result"
    }
   ],
   "source": [
    "# bitwise array multiplication\n",
    "matrix * transposed_mat"
   ]
  },
  {
   "cell_type": "markdown",
   "metadata": {},
   "source": [
    "### Broadcasting examples"
   ]
  },
  {
   "cell_type": "code",
   "execution_count": 16,
   "metadata": {},
   "outputs": [
    {
     "data": {
      "text/plain": [
       "array([[1., 1.],\n",
       "       [1., 1.],\n",
       "       [1., 1.]])"
      ]
     },
     "execution_count": 16,
     "metadata": {},
     "output_type": "execute_result"
    }
   ],
   "source": [
    "arr = np.ones((3, 2))\n",
    "arr"
   ]
  },
  {
   "cell_type": "code",
   "execution_count": 17,
   "metadata": {},
   "outputs": [
    {
     "data": {
      "text/plain": [
       "array([[3., 3.],\n",
       "       [3., 3.],\n",
       "       [3., 3.]])"
      ]
     },
     "execution_count": 17,
     "metadata": {},
     "output_type": "execute_result"
    }
   ],
   "source": [
    "arr * 3"
   ]
  },
  {
   "cell_type": "code",
   "execution_count": 18,
   "metadata": {},
   "outputs": [
    {
     "data": {
      "text/plain": [
       "array([[2., 3.],\n",
       "       [2., 3.],\n",
       "       [2., 3.]])"
      ]
     },
     "execution_count": 18,
     "metadata": {},
     "output_type": "execute_result"
    }
   ],
   "source": [
    "arr * np.array([2, 3])"
   ]
  },
  {
   "cell_type": "code",
   "execution_count": 19,
   "metadata": {},
   "outputs": [
    {
     "data": {
      "text/plain": [
       "array([[2., 2.],\n",
       "       [3., 3.],\n",
       "       [4., 4.]])"
      ]
     },
     "execution_count": 19,
     "metadata": {},
     "output_type": "execute_result"
    }
   ],
   "source": [
    "arr * np.array([2, 3, 4]).reshape(3, 1)"
   ]
  },
  {
   "cell_type": "markdown",
   "metadata": {},
   "source": [
    "### Using masks\n",
    "\n",
    "TODO"
   ]
  },
  {
   "cell_type": "code",
   "execution_count": 20,
   "metadata": {},
   "outputs": [
    {
     "data": {
      "text/plain": [
       "array([[1, 2, 3],\n",
       "       [4, 5, 6],\n",
       "       [7, 8, 9]])"
      ]
     },
     "execution_count": 20,
     "metadata": {},
     "output_type": "execute_result"
    }
   ],
   "source": [
    "matrix"
   ]
  },
  {
   "cell_type": "code",
   "execution_count": 21,
   "metadata": {},
   "outputs": [
    {
     "data": {
      "text/plain": [
       "array([[ True,  True,  True],\n",
       "       [ True, False, False],\n",
       "       [False, False, False]])"
      ]
     },
     "execution_count": 21,
     "metadata": {},
     "output_type": "execute_result"
    }
   ],
   "source": [
    "# element-wise conditionals\n",
    "matrix < 5"
   ]
  },
  {
   "cell_type": "markdown",
   "metadata": {},
   "source": [
    "### Practical methods integrated in Numpy (with examples)\n",
    "\n",
    "TODO"
   ]
  },
  {
   "cell_type": "markdown",
   "metadata": {},
   "source": [
    "### Speed of numpy arrays\n",
    "\n",
    "TODO"
   ]
  },
  {
   "cell_type": "code",
   "execution_count": 22,
   "metadata": {},
   "outputs": [],
   "source": [
    "# comparing the speed of Python list and Numpy arrays\n",
    "numpy_array = np.random.rand(10**6)  # create a large Numpy array of 10e6 random numbers\n",
    "python_list = numpy_array.tolist()   # generate a similar Python list"
   ]
  },
  {
   "cell_type": "code",
   "execution_count": 23,
   "metadata": {},
   "outputs": [
    {
     "name": "stdout",
     "output_type": "stream",
     "text": [
      "213 µs ± 1.38 µs per loop (mean ± std. dev. of 7 runs, 1,000 loops each)\n"
     ]
    }
   ],
   "source": [
    "# bechmark the speed of Numpy arrays (using the numpy sum method)\n",
    "%timeit np.sum(numpy_array)"
   ]
  },
  {
   "cell_type": "code",
   "execution_count": 24,
   "metadata": {},
   "outputs": [
    {
     "name": "stdout",
     "output_type": "stream",
     "text": [
      "2.58 ms ± 53 µs per loop (mean ± std. dev. of 7 runs, 100 loops each)\n"
     ]
    }
   ],
   "source": [
    "# bechmark the speed of a similar Python list (using the Python sum method)\n",
    "%timeit sum(python_list)"
   ]
  },
  {
   "cell_type": "markdown",
   "metadata": {},
   "source": [
    "In this case, Numpy arrays are almost one order of magnitude faster than Python list. This may vary depending on the size of the object or the speed of your processor but in general numpy arrays will be much faster than standard Pyhon structured types such as _lists_, _tuples_, or _dics_ as they are designed specifically for numerical tasks.\n",
    "\n",
    "> **Gotcha**\n",
    ">\n",
    ">A note of caution here is that to take advantage of this feature you should always use numpy methods with arrays instead of the ones that comes with the Python standard modules, that are designed to operate on standard python structures. This is:\n",
    ">\n",
    ">``np.sum(array)`` or ``array.sum()`` 👍  \n",
    ">``sum(array)`` ❌\n",
    ">\n",
    "> Numpy methods also work on Python lists but it will convert the list into an array before applying the method."
   ]
  },
  {
   "cell_type": "markdown",
   "metadata": {},
   "source": [
    "bitwise operators (the ones to use with arrays!)\n",
    "```python\n",
    "&  # bitwise AND  \n",
    "|  # bitwise OR \n",
    "~  # bitwise NOT\n",
    "^  # bitwise XOR\n",
    "```"
   ]
  },
  {
   "cell_type": "markdown",
   "metadata": {},
   "source": [
    "> More information on Numpy arrays:  \n",
    "> - "
   ]
  },
  {
   "cell_type": "code",
   "execution_count": 25,
   "metadata": {},
   "outputs": [
    {
     "name": "stdout",
     "output_type": "stream",
     "text": [
      "Notebook tested in 2022-08-23 using:\n",
      "Python 3.9.12 (main, Apr  4 2022, 05:22:27) [MSC v.1916 64 bit (AMD64)]\n",
      "Numpy 1.23.1\n"
     ]
    }
   ],
   "source": [
    "import sys\n",
    "from datetime import date    \n",
    "today = date.today().isoformat()\n",
    "\n",
    "print(f'Notebook tested in {today} using:')\n",
    "print('Python', sys.version)\n",
    "print('Numpy', np.__version__)"
   ]
  }
 ],
 "metadata": {
  "interpreter": {
   "hash": "073408933f31e8ac7f6b4bf29a6f48e1a2f613d7d5b6e5c6c58fd8fdc8389e42"
  },
  "kernelspec": {
   "display_name": "Python 3.9.12 ('main')",
   "language": "python",
   "name": "python3"
  },
  "language_info": {
   "codemirror_mode": {
    "name": "ipython",
    "version": 3
   },
   "file_extension": ".py",
   "mimetype": "text/x-python",
   "name": "python",
   "nbconvert_exporter": "python",
   "pygments_lexer": "ipython3",
   "version": "3.9.12"
  }
 },
 "nbformat": 4,
 "nbformat_minor": 4
}
