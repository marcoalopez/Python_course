{
 "cells": [
  {
   "attachments": {},
   "cell_type": "markdown",
   "metadata": {},
   "source": [
    "# Object-oriented Python programming (OOP) for science\n",
    "\n",
    "Copyright 2023 Marco A. Lopez-Sanchez.  \n",
    "Content under [Creative Commons Attribution-NonCommercial-ShareAlike 4.0 International (CC BY-NC-SA 4.0) License](http://creativecommons.org/licenses/by-nc-sa/4.0/).\n",
    "\n",
    "> **Goal**:  \n",
    "> Learn the basics of object-oriented programming in Python and their use cases in science.\n",
    "\n",
    "The route taken here to teach OOP deviates quite a bit from the general way in which this topic is usually approached. As Python is a general-purpose programming language most tutorials out there focus on teaching OOP using very general examples while ignoring the particularities of data-oriented science. Moreover, I am a firm fan of top-down teaching approach while the default sequence of teaching OOP out there is bottom-up, meaning that the tutorial teaches how to create a Python class and how they work before giving a clear idea of when it is convenient to use the object-oriented programming paradigm, particularly in STEM. So the approach here will focus first on showing when OOP is advantageous using simple examples and some tricks to create simplified Python classes to focus more on the concept of object-oriented programming rather than the language specifics. Finally, we will also give a very brief overview of how to build a Python class from scratch.\n",
    "\n",
    "> \n",
    "\n",
    "## Object-oriented programming use cases in science\n",
    "\n",
    "In science, most of the cases where OOP can be very effective are what we call data-oriented cases. By this, we mean use cases where we need to relate different Python objects (e.g. arrays, floats, integers, etc.) that represent related data. In this case, instead of creating multiple variables of different types, Python classes allow you to create a more sophisticated object to **structure and encapsulate your data** into a single object/variable containing different _fields_. As a metaphor, you can think of classes as templates that allow you to create your own Python data types according to your needs. A simple case would be to store a collection of rock samples collected in the field where you want to relate different _fields_ such as sample reference, rock type, coordinates, and collection dates. A more complicated data-driven case would be to represent crystallographic orientation maps where one has to relate matrices/arrays with crystalline orientations, mineral phase identification, crystallographic group and properties, quality of the diffraction data obtained, etc., and different methods to operate on this data.\n",
    "\n",
    "Let's start with some simple cases.\n",
    "\n",
    "TODO -> first example"
   ]
  },
  {
   "cell_type": "markdown",
   "metadata": {},
   "source": [
    "## Creating a Python class the easy way: using the dataclass decorator\n",
    "\n",
    "TODO"
   ]
  },
  {
   "cell_type": "code",
   "execution_count": 1,
   "metadata": {},
   "outputs": [],
   "source": [
    "from dataclasses import dataclass\n",
    "\n",
    "@dataclass\n",
    "class Samples:\n",
    "    \"\"\"A Python class that store information on rock samples\"\"\"\n",
    "    ref: str\n",
    "    rock_type: str\n",
    "    coordinates: list\n",
    "    date: str\n"
   ]
  },
  {
   "cell_type": "markdown",
   "metadata": {},
   "source": [
    "## Adding methods to your classes\n",
    "\n",
    "TODO"
   ]
  },
  {
   "cell_type": "markdown",
   "metadata": {},
   "source": [
    "## Going further\n",
    "\n",
    "Beginner tutorials on Python classes:   \n",
    "https://youtu.be/apACNr7DC_s  \n",
    "https://youtu.be/ZDa-Z5JzLYM  "
   ]
  },
  {
   "cell_type": "code",
   "execution_count": 2,
   "metadata": {},
   "outputs": [
    {
     "name": "stdout",
     "output_type": "stream",
     "text": [
      "Notebook tested in 2023-09-13 using:\n",
      "Python 3.10.12 | packaged by Anaconda, Inc. | (main, Jul  5 2023, 19:01:18) [MSC v.1916 64 bit (AMD64)]\n"
     ]
    }
   ],
   "source": [
    "import sys\n",
    "from datetime import date    \n",
    "today = date.today().isoformat()\n",
    "\n",
    "print(f'Notebook tested in {today} using:')\n",
    "print('Python', sys.version)"
   ]
  }
 ],
 "metadata": {
  "interpreter": {
   "hash": "073408933f31e8ac7f6b4bf29a6f48e1a2f613d7d5b6e5c6c58fd8fdc8389e42"
  },
  "kernelspec": {
   "display_name": "Python 3.9.12 ('main')",
   "language": "python",
   "name": "python3"
  },
  "language_info": {
   "codemirror_mode": {
    "name": "ipython",
    "version": 3
   },
   "file_extension": ".py",
   "mimetype": "text/x-python",
   "name": "python",
   "nbconvert_exporter": "python",
   "pygments_lexer": "ipython3",
   "version": "3.10.12"
  },
  "orig_nbformat": 4
 },
 "nbformat": 4,
 "nbformat_minor": 2
}
