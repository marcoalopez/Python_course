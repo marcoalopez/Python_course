{
 "cells": [
  {
   "attachments": {},
   "cell_type": "markdown",
   "metadata": {},
   "source": [
    "# Scipy\n",
    "\n",
    "Copyright 2023-today Marco A. Lopez-Sanchez.  \n",
    "Content under [Creative Commons Attribution-NonCommercial-ShareAlike 4.0 International (CC BY-NC-SA 4.0) License](http://creativecommons.org/licenses/by-nc-sa/4.0/).\n",
    "\n",
    "> **Goal**:  \n",
    "> Using some Scipy capabilities by way of example.\n",
    ">\n",
    "> **What it is and used for?**  \n",
    ">Meaning **Sci**entific **Py**thon, this library provides some fundamental algorithms for common scientific tasks such as optimization, signal processing, statistics, and more. It works in tandem with Numpy and therefore efficiently. It is a library whose philosophy is to make available well-tested algorithms for science, based in some cases on legacy Fortran or C codes tested for decades (acting Python as a glueing language or wrapper).\n",
    ">\n",
    "> **Resources**  \n",
    "> https://scipy.org/ (official website)  \n",
    "> https://docs.scipy.org/doc/scipy/ (official documentation)  \n",
    "> https://lectures.scientific-python.org/ (Scientific Python Lectures)\n",
    "\n",
    "\n",
    "Scipy contains several sub-modules that can be summarized as follows:\n",
    "\n",
    "``scipy.integrate``  \n",
    "Numerical integration routines and differential equation solvers including an ordinary differential equation integrator. https://docs.scipy.org/doc/scipy/tutorial/integrate.html\n",
    "\n",
    "``scipy.linalg``  \n",
    "Fast linear algebra routines and matrix decompositions extending beyond those provided in numpy.linalg. https://docs.scipy.org/doc/scipy/tutorial/linalg.html\n",
    "\n",
    "``scipy.optimize``  \n",
    "Function optimizers (minimizers) and root finding algorithms. https://docs.scipy.org/doc/scipy/tutorial/optimize.html\n",
    "\n",
    "``scipy.signal``  \n",
    "Signal processing tools. https://docs.scipy.org/doc/scipy/tutorial/signal.html\n",
    "\n",
    "``scipy.interpolate``  \n",
    "Routines for interpolation and smoothing data in 1, 2 or higher dimensions. https://docs.scipy.org/doc/scipy/tutorial/interpolate.html\n",
    "\n",
    "``scipy.fft``  \n",
    "Fast Fourier transforms. https://docs.scipy.org/doc/scipy/tutorial/fft.html\n",
    "\n",
    "``scipy.spatial``  \n",
    "Spatial data structures and algorithms such as triangulations, rotations, Voronoi diagrams, or convex hulls. https://docs.scipy.org/doc/scipy/tutorial/spatial.html\n",
    "\n",
    "``scipy.sparse``  \n",
    "Sparse matrix and sparse linear system solvers (e.g. eigenvalues/eigenvectors). https://docs.scipy.org/doc/scipy/tutorial/arpack.html\n",
    "\n",
    "``scipy.special``  \n",
    "This module contains several special functions of mathematical physics. https://docs.scipy.org/doc/scipy/tutorial/special.html\n",
    "\n",
    "``scipy.stats``  \n",
    "Standard continuous and discrete probability distributions (density functions, samplers, continuous distribution functions), various statistical tests, and more descriptive statistics. https://docs.scipy.org/doc/scipy/tutorial/stats.html"
   ]
  },
  {
   "cell_type": "code",
   "execution_count": 1,
   "metadata": {},
   "outputs": [],
   "source": [
    "# import scipy\n",
    "import scipy as sp"
   ]
  },
  {
   "cell_type": "code",
   "execution_count": 2,
   "metadata": {},
   "outputs": [
    {
     "name": "stdout",
     "output_type": "stream",
     "text": [
      "\u001b[1;31mType:\u001b[0m        module\n",
      "\u001b[1;31mString form:\u001b[0m <module 'scipy.integrate' from 'c:\\\\Users\\\\Marco\\\\miniconda3\\\\envs\\\\main\\\\Lib\\\\site-packages\\\\scipy\\\\integrate\\\\__init__.py'>\n",
      "\u001b[1;31mFile:\u001b[0m        c:\\users\\marco\\miniconda3\\envs\\main\\lib\\site-packages\\scipy\\integrate\\__init__.py\n",
      "\u001b[1;31mDocstring:\u001b[0m  \n",
      "=============================================\n",
      "Integration and ODEs (:mod:`scipy.integrate`)\n",
      "=============================================\n",
      "\n",
      ".. currentmodule:: scipy.integrate\n",
      "\n",
      "Integrating functions, given function object\n",
      "============================================\n",
      "\n",
      ".. autosummary::\n",
      "   :toctree: generated/\n",
      "\n",
      "   quad          -- General purpose integration\n",
      "   quad_vec      -- General purpose integration of vector-valued functions\n",
      "   dblquad       -- General purpose double integration\n",
      "   tplquad       -- General purpose triple integration\n",
      "   nquad         -- General purpose N-D integration\n",
      "   fixed_quad    -- Integrate func(x) using Gaussian quadrature of order n\n",
      "   quadrature    -- Integrate with given tolerance using Gaussian quadrature\n",
      "   romberg       -- Integrate func using Romberg integration\n",
      "   newton_cotes  -- Weights and error coefficient for Newton-Cotes integration\n",
      "   qmc_quad      -- N-D integration using Quasi-Monte Carlo quadrature\n",
      "   IntegrationWarning -- Warning on issues during integration\n",
      "   AccuracyWarning  -- Warning on issues during quadrature integration\n",
      "\n",
      "Integrating functions, given fixed samples\n",
      "==========================================\n",
      "\n",
      ".. autosummary::\n",
      "   :toctree: generated/\n",
      "\n",
      "   trapezoid            -- Use trapezoidal rule to compute integral.\n",
      "   cumulative_trapezoid -- Use trapezoidal rule to cumulatively compute integral.\n",
      "   simpson              -- Use Simpson's rule to compute integral from samples.\n",
      "   cumulative_simpson   -- Use Simpson's rule to cumulatively compute integral from samples.\n",
      "   romb                 -- Use Romberg Integration to compute integral from\n",
      "                        -- (2**k + 1) evenly-spaced samples.\n",
      "\n",
      ".. seealso::\n",
      "\n",
      "   :mod:`scipy.special` for orthogonal polynomials (special) for Gaussian\n",
      "   quadrature roots and weights for other weighting factors and regions.\n",
      "\n",
      "Solving initial value problems for ODE systems\n",
      "==============================================\n",
      "\n",
      "The solvers are implemented as individual classes, which can be used directly\n",
      "(low-level usage) or through a convenience function.\n",
      "\n",
      ".. autosummary::\n",
      "   :toctree: generated/\n",
      "\n",
      "   solve_ivp     -- Convenient function for ODE integration.\n",
      "   RK23          -- Explicit Runge-Kutta solver of order 3(2).\n",
      "   RK45          -- Explicit Runge-Kutta solver of order 5(4).\n",
      "   DOP853        -- Explicit Runge-Kutta solver of order 8.\n",
      "   Radau         -- Implicit Runge-Kutta solver of order 5.\n",
      "   BDF           -- Implicit multi-step variable order (1 to 5) solver.\n",
      "   LSODA         -- LSODA solver from ODEPACK Fortran package.\n",
      "   OdeSolver     -- Base class for ODE solvers.\n",
      "   DenseOutput   -- Local interpolant for computing a dense output.\n",
      "   OdeSolution   -- Class which represents a continuous ODE solution.\n",
      "\n",
      "\n",
      "Old API\n",
      "-------\n",
      "\n",
      "These are the routines developed earlier for SciPy. They wrap older solvers\n",
      "implemented in Fortran (mostly ODEPACK). While the interface to them is not\n",
      "particularly convenient and certain features are missing compared to the new\n",
      "API, the solvers themselves are of good quality and work fast as compiled\n",
      "Fortran code. In some cases, it might be worth using this old API.\n",
      "\n",
      ".. autosummary::\n",
      "   :toctree: generated/\n",
      "\n",
      "   odeint        -- General integration of ordinary differential equations.\n",
      "   ode           -- Integrate ODE using VODE and ZVODE routines.\n",
      "   complex_ode   -- Convert a complex-valued ODE to real-valued and integrate.\n",
      "   ODEintWarning -- Warning raised during the execution of `odeint`.\n",
      "\n",
      "\n",
      "Solving boundary value problems for ODE systems\n",
      "===============================================\n",
      "\n",
      ".. autosummary::\n",
      "   :toctree: generated/\n",
      "\n",
      "   solve_bvp     -- Solve a boundary value problem for a system of ODEs."
     ]
    }
   ],
   "source": [
    "sp.integrate?"
   ]
  },
  {
   "attachments": {},
   "cell_type": "markdown",
   "metadata": {},
   "source": [
    "# Example 1\n",
    "\n",
    "TODO"
   ]
  },
  {
   "cell_type": "code",
   "execution_count": 3,
   "metadata": {},
   "outputs": [
    {
     "name": "stdout",
     "output_type": "stream",
     "text": [
      "Notebook tested in 2024-12-03 using:\n",
      "Python 3.12.4 | packaged by Anaconda, Inc. | (main, Jun 18 2024, 15:03:56) [MSC v.1929 64 bit (AMD64)]\n",
      "Scipy 1.14.1\n"
     ]
    }
   ],
   "source": [
    "import sys\n",
    "from datetime import date    \n",
    "today = date.today().isoformat()\n",
    "\n",
    "print(f'Notebook tested in {today} using:')\n",
    "print('Python', sys.version)\n",
    "print('Scipy', sp.__version__)"
   ]
  }
 ],
 "metadata": {
  "kernelspec": {
   "display_name": "main",
   "language": "python",
   "name": "python3"
  },
  "language_info": {
   "codemirror_mode": {
    "name": "ipython",
    "version": 3
   },
   "file_extension": ".py",
   "mimetype": "text/x-python",
   "name": "python",
   "nbconvert_exporter": "python",
   "pygments_lexer": "ipython3",
   "version": "3.12.4"
  },
  "orig_nbformat": 4,
  "vscode": {
   "interpreter": {
    "hash": "073408933f31e8ac7f6b4bf29a6f48e1a2f613d7d5b6e5c6c58fd8fdc8389e42"
   }
  }
 },
 "nbformat": 4,
 "nbformat_minor": 2
}
