{
 "cells": [
  {
   "cell_type": "markdown",
   "source": [
    "# Numpy arrays\r\n",
    "\r\n",
    "> **What it is?** A core package for scientific computing with Python. It enables the creation of n-dimensional numerical arrays and basic operations with arrays. See https://numpy.org/  \r\n",
    "> **What it is used for?** Numpy arrays are the standard representation for numerical data in Python. It enables efficient implementation of numerical computations in a high-level language and thus it is the way to go when doing numerical computation and analysing scientific data in Python. Array programming provides a powerful, compact and expressive syntax for accessing, manipulating and operating on data in vectors, matrices and higher-dimensional arrays ([Harris et al. 2020](https://www.nature.com/articles/s41586-020-2649-2)). Many other data-science libraries for Python are built onto NumPy, including Pandas and SciPy (see below)."
   ],
   "metadata": {}
  },
  {
   "cell_type": "code",
   "execution_count": 1,
   "source": [
    "import numpy as np"
   ],
   "outputs": [],
   "metadata": {}
  },
  {
   "cell_type": "code",
   "execution_count": null,
   "source": [],
   "outputs": [],
   "metadata": {}
  }
 ],
 "metadata": {
  "orig_nbformat": 4,
  "language_info": {
   "name": "python",
   "version": "3.9.5",
   "mimetype": "text/x-python",
   "codemirror_mode": {
    "name": "ipython",
    "version": 3
   },
   "pygments_lexer": "ipython3",
   "nbconvert_exporter": "python",
   "file_extension": ".py"
  },
  "kernelspec": {
   "name": "python3",
   "display_name": "Python 3.9.5 64-bit (conda)"
  },
  "interpreter": {
   "hash": "84560f56ecfa3f87bb2acd256437df3bdea56912525622043038c1ccf2e083ce"
  }
 },
 "nbformat": 4,
 "nbformat_minor": 2
}