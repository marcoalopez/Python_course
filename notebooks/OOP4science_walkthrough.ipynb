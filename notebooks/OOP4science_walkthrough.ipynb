{
 "cells": [
  {
   "cell_type": "markdown",
   "metadata": {},
   "source": [
    "# Object-oriented programming (OOP) for science in Python\n",
    "\n",
    "Copyright 2022 Marco A. Lopez-Sanchez.  \n",
    "Content under [Creative Commons Attribution license CC-BY 4.0](https://creativecommons.org/licenses/by/4.0/).\n",
    "\n",
    "> **Goal**:  \n",
    "> Learn the basics of OOP programming in Python and their use cases.\n",
    "\n",
    "The route taken here to teach OOP deviates quite a bit from the general way in which this topic is usually approached. The reasons for this deviation are twofold. To begin with, this is a tutorial focused on using Python for data science and analysis, and most tutorials out there approach it in a more general way as Python is not just a data science-specific language. Moreover, I am a firm fan of top-down teaching while the default sequence of teaching OOP out there is bottom-up, meaning that the tutorial teaches how to create a Python class and how they work without giving a clear idea of when it is convenient to use this OOP programming paradigm, especially in STEM. So the approach here will focus first on showing when OOP programming is advantageous using a simple example but also using some tricks to create simplified Python classes to focus more on the concept of OOP rather than the language specifics. Finally, we will also give a very brief overview of how to build a Python class from scratch.\n",
    "\n",
    "TODO -> Briefly introduce a Python class?\n",
    "\n",
    "## OOP use cases in science\n",
    "\n",
    "In science, most of the cases where the object-oriented programming paradigm can be effective are what we call data-oriented cases. By this we mean use cases where to store our data we need to combine different types of Python objects (e.g. combining arrays, floats, integers, etc.). In this case, instead of creating multiple variables of different types that represent the same set of data, Python classes allow you to create a more sophisticated object that allows you to **structure your data** and encapsulate them in a single object/variable. As a metaphor, you can think of classes as templates that allow you to create your Python data types according to your needs.\n",
    "\n",
    "For example, imagine you want to store data of rock samples collected in the field and you want to relate sample reference, rock type, coordinates, collection date or more complicated things like crystallographic orientation maps where you would need to relate arrays containing crystal orientations, mineral phase, crystallographic group, quality of the raw data obtained, and anything else you can think of.\n",
    "\n",
    "TODO -> first example"
   ]
  },
  {
   "cell_type": "markdown",
   "metadata": {},
   "source": [
    "## Creating a Python class the easy way: using the dataclass decorator\n",
    "\n",
    "TODO"
   ]
  },
  {
   "cell_type": "code",
   "execution_count": 2,
   "metadata": {},
   "outputs": [],
   "source": [
    "from dataclasses import dataclass\n",
    "\n",
    "@dataclass\n",
    "class Samples:\n",
    "    \"\"\"A Python class that store information on rock samples\"\"\"\n",
    "    ref: str\n",
    "    rock_type: str\n",
    "    coordinates: list\n",
    "    date: str\n"
   ]
  },
  {
   "cell_type": "markdown",
   "metadata": {},
   "source": [
    "## Adding methods to your classes\n",
    "\n",
    "TODO"
   ]
  },
  {
   "cell_type": "code",
   "execution_count": 18,
   "metadata": {},
   "outputs": [
    {
     "name": "stdout",
     "output_type": "stream",
     "text": [
      "Notebook tested in 2022-08-20 using:\n",
      "Python 3.10.4 | packaged by conda-forge | (main, Mar 30 2022, 08:38:02) [MSC v.1916 64 bit (AMD64)]\n"
     ]
    }
   ],
   "source": [
    "import sys\n",
    "from datetime import date    \n",
    "today = date.today().isoformat()\n",
    "\n",
    "print(f'Notebook tested in {today} using:')\n",
    "print('Python', sys.version)"
   ]
  }
 ],
 "metadata": {
  "interpreter": {
   "hash": "073408933f31e8ac7f6b4bf29a6f48e1a2f613d7d5b6e5c6c58fd8fdc8389e42"
  },
  "kernelspec": {
   "display_name": "Python 3.9.12 ('main')",
   "language": "python",
   "name": "python3"
  },
  "language_info": {
   "codemirror_mode": {
    "name": "ipython",
    "version": 3
   },
   "file_extension": ".py",
   "mimetype": "text/x-python",
   "name": "python",
   "nbconvert_exporter": "python",
   "pygments_lexer": "ipython3",
   "version": "3.9.12"
  },
  "orig_nbformat": 4
 },
 "nbformat": 4,
 "nbformat_minor": 2
}
